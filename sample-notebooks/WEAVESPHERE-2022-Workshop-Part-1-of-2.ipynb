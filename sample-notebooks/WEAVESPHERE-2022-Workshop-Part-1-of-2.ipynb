{
 "cells": [
  {
   "cell_type": "markdown",
   "metadata": {},
   "source": [
    "# Workshop Part 1of 2"
   ]
  },
  {
   "cell_type": "markdown",
   "metadata": {
    "collapsed": true
   },
   "source": [
    "At the beginning of the workshop, you were given a room name and workshop key.\n",
    "\n",
    "Type those in the following cell, and then run the cell to assign them to global variables to be used throughout the rest of the notebook."
   ]
  },
  {
   "cell_type": "code",
   "execution_count": null,
   "metadata": {},
   "outputs": [],
   "source": [
    "# Cell: 01\n",
    "\n",
    "g_room_name = \"\"\n",
    "g_workshop_key = \"\""
   ]
  },
  {
   "cell_type": "code",
   "execution_count": null,
   "metadata": {},
   "outputs": [],
   "source": []
  },
  {
   "cell_type": "markdown",
   "metadata": {},
   "source": [
    "# Table of contents\n",
    "\n",
    "<ol style=\"list-style: none; margin: 20px 0px 0px 0px; padding: 0px\">\n",
    "<li style=\"margin: 0px 0px 3px 0px;\"><b>Step 1:</b> Populate a mural from a JSON file</li>\n",
    "<li style=\"margin: 0px 0px 3px 0px;\"><b>Step 2:</b> Read sticky note comments from the mural into a DataFrame</li>\n",
    "<li style=\"margin: 0px 0px 3px 0px;\"><b>Step 3:</b> Analyze the sentiment of sticky note comments</li>\n",
    "<li style=\"margin: 0px 0px 3px 0px;\"><b>Step 4:</b> Color sticky notes by sentiment</li>\n",
    "<li style=\"margin: 0px 0px 3px 0px;\"><b>Step 5:</b> Identify nouns in sticky note comments</li>\n",
    "<li style=\"margin: 0px 0px 3px 0px;\"><b>Step 6:</b> Visualize nouns in a chart</li>\n",
    "</ol>"
   ]
  },
  {
   "cell_type": "code",
   "execution_count": null,
   "metadata": {},
   "outputs": [],
   "source": []
  },
  {
   "cell_type": "markdown",
   "metadata": {},
   "source": [
    "# Step 1: Populate a mural from a JSON file\n",
    "\n",
    "<ol style=\"list-style: none; margin: 20px 0px 0px 0px; padding: 0px\">\n",
    "<li style=\"margin: 0px 0px 3px 0px;\"><b>1.1:</b> Create blank mural</li>\n",
    "<li style=\"margin: 0px 0px 3px 0px;\"><b>1.2:</b> Load sample widget data JSON file</li>\n",
    "<li style=\"margin: 0px 0px 3px 0px;\"><b>1.3:</b> Put sample widgets into the blank mural</li>\n",
    "</ol>"
   ]
  },
  {
   "cell_type": "markdown",
   "metadata": {},
   "source": [
    "## 1.1 Create blank mural"
   ]
  },
  {
   "cell_type": "code",
   "execution_count": null,
   "metadata": {},
   "outputs": [],
   "source": [
    "# Cell: 02\n",
    "\n",
    "import requests\n",
    "import json\n",
    "\n",
    "def createMural( mural_title, room_name, workshop_key ):\n",
    "    url = \"https://weavesphere-mural-oauth.tqns6lm651z.us-south.codeengine.appdomain.cloud/create-mural-workshop-part1\"\n",
    "    headers = { \"Content-Type\" : \"application/json\", \"Accept\" : \"application/json\" }\n",
    "    data = json.dumps( { \"mural_title\" : mural_title, \"room_name\" : room_name, \"workshop_key\" : workshop_key } )\n",
    "    response = requests.request( \"POST\", url, headers=headers, data=data )\n",
    "    response_json = response.json()\n",
    "    if \"error_str\" in response_json:\n",
    "        print( response_json[\"error_str\"] )\n",
    "        return None, None\n",
    "    if \"mural_id\" not in response_json:\n",
    "        print( \"Field 'mural_id' not returned in result\" )\n",
    "        return None, None\n",
    "    if \"mural_link\" not in response_json:\n",
    "        print( \"Field 'mural_link' not returned in result\" )\n",
    "        return None, None\n",
    "    return response_json[\"mural_id\"], response_json[\"mural_link\"]"
   ]
  },
  {
   "cell_type": "code",
   "execution_count": null,
   "metadata": {},
   "outputs": [],
   "source": [
    "# Cell: 03\n",
    "\n",
    "g_mural_id, g_mural_link = createMural( \"Team celebration feedback\", g_room_name, g_workshop_key )\n",
    "print( \"Done\" )"
   ]
  },
  {
   "cell_type": "code",
   "execution_count": null,
   "metadata": {},
   "outputs": [],
   "source": [
    "# Cell: 04\n",
    "\n",
    "from IPython.display import display, HTML\n",
    "\n",
    "html = HTML( \"<h3>Mural for: Workshop Part 1 of 2</h3>\" + \n",
    "             \"<p>Mural ID: <code>\" + g_mural_id + \"</code></p>\" +\n",
    "             \"<p>\\\"Visitor\\\" link: <a href='\" + g_mural_link + \"' target='_other'>Click to open mural in a new tab</a></p>\" )\n",
    "\n",
    "display( html )"
   ]
  },
  {
   "cell_type": "markdown",
   "metadata": {},
   "source": [
    "## 1.2 Load sample widget data JSON file"
   ]
  },
  {
   "cell_type": "code",
   "execution_count": null,
   "metadata": {},
   "outputs": [],
   "source": [
    "# Cell: 05\n",
    "\n",
    "import urllib\n",
    "import json\n",
    "\n",
    "url = \"https://github.com/spackows/MURAL-API-Samples/raw/main/murals/sample-project-01_feedback-mural.json\"\n",
    "response = urllib.request.urlopen( url )\n",
    "encoding = response.info().get_content_charset( \"utf8\" )\n",
    "g_widgets_arr = json.loads( response.read().decode( encoding ) )"
   ]
  },
  {
   "cell_type": "code",
   "execution_count": null,
   "metadata": {},
   "outputs": [],
   "source": [
    "# Cell: 06\n",
    "\n",
    "print( json.dumps( g_widgets_arr, indent=3 ) )"
   ]
  },
  {
   "cell_type": "markdown",
   "metadata": {},
   "source": [
    "## 1.3 Put sample widgets into the blank mural"
   ]
  },
  {
   "cell_type": "code",
   "execution_count": null,
   "metadata": {},
   "outputs": [],
   "source": [
    "# Cell: 07\n",
    "\n",
    "def refreshAccessToken( room_name, workshop_key ):\n",
    "    url = \"https://weavesphere-mural-oauth.tqns6lm651z.us-south.codeengine.appdomain.cloud/refresh-token\"\n",
    "    headers = { \"Content-Type\" : \"application/json\", \"Accept\" : \"application/json\" }\n",
    "    data = json.dumps( { \"room_name\" : room_name, \"workshop_key\" : workshop_key } )\n",
    "    response = requests.request( \"POST\", url, headers=headers, data=data )\n",
    "    response_json = response.json()\n",
    "    if \"error_str\" in response_json:\n",
    "        print( response_json[\"error_str\"] )\n",
    "        return None\n",
    "    if \"access_token\" not in response_json:\n",
    "        print( \"Field 'access_token' not returned in result\" )\n",
    "        return None\n",
    "    return response_json[\"access_token\"]\n",
    "\n",
    "\n",
    "widget_type_map = {\n",
    "    # From export   # For importing\n",
    "    \"sticky note\" : \"sticky-note\",\n",
    "    \"text\"        : \"title\",\n",
    "    \"shape\"       : \"shape\"\n",
    "}\n",
    "\n",
    "\n",
    "def addWidgetToMural( mural_oauth_token, mural_id, widget_data, widget_type ):\n",
    "    # https://developers.mural.co/public/reference/createstickynote\n",
    "    # https://developers.mural.co/public/reference/createtitle\n",
    "    # https://developers.mural.co/public/reference/createshapewidget\n",
    "    url = \"https://app.mural.co/api/public/v1/murals/\" + mural_id + \"/widgets/\" + widget_type\n",
    "    headers = { \"Content-Type\" : \"application/json\", \"Accept\" : \"application/json\", \"Authorization\" : \"Bearer \" + mural_oauth_token }\n",
    "    data = json.dumps( widget_data )\n",
    "    response = requests.request( \"POST\", url, headers=headers, data=data )\n",
    "    response_json = response.json()\n",
    "    msg = \"\"\n",
    "    if \"code\" in response_json:\n",
    "        msg += response_json[\"code\"] + \" \"\n",
    "    if \"message\" in response_json:\n",
    "        msg += response_json[\"message\"]\n",
    "    return msg    \n",
    "\n",
    "\n",
    "def addWidgetsToMuralJSON( room_name, workshop_key, mural_id, widgets_arr ):\n",
    "    mural_oauth_token = refreshAccessToken( room_name, workshop_key )\n",
    "    if mural_oauth_token is None:\n",
    "        return\n",
    "    widgets_arr_copy = widgets_arr.copy()\n",
    "    widgets_arr_copy.sort( key = lambda widget: widget[\"stackingOrder\"] )\n",
    "    for widget in widgets_arr_copy:\n",
    "        widget_type = widget_type_map[widget[\"type\"]]\n",
    "        widget_copy = widget.copy()\n",
    "        del widget_copy[\"stackingOrder\"]\n",
    "        del widget_copy[\"type\"]\n",
    "        error_str = addWidgetToMural( mural_oauth_token, mural_id, widget_copy, widget_type )\n",
    "        if error_str:\n",
    "            print( \"Adding widget failed\" )\n",
    "            print( \"widget:\\n\" + json.dumps( widget, indent=2 ) )\n",
    "            print( \"MURAL error message:\" )\n",
    "            print( error_str )\n",
    "            return\n",
    "    print( \"Done\" )"
   ]
  },
  {
   "cell_type": "code",
   "execution_count": null,
   "metadata": {},
   "outputs": [],
   "source": [
    "# Cell: 08\n",
    "\n",
    "import time\n",
    "time.sleep(5)\n",
    "\n",
    "# Quick!  After running this cell, switch to your browser \n",
    "# tab where the mural is to see the stickies get added\n",
    "# ...\n",
    "addWidgetsToMuralJSON( g_room_name, g_workshop_key, g_mural_id, g_widgets_arr )"
   ]
  },
  {
   "cell_type": "markdown",
   "metadata": {},
   "source": [
    "When the previous cell is done, your mural should look like this:\n",
    "\n",
    "<img src=\"https://github.com/spackows/MURAL-API-Samples/blob/main/images/sample-project-01_scenario.png?raw=true\" alt=\"Workshop mural\" width=\"60%\" />"
   ]
  },
  {
   "cell_type": "code",
   "execution_count": null,
   "metadata": {},
   "outputs": [],
   "source": []
  },
  {
   "cell_type": "markdown",
   "metadata": {},
   "source": [
    "# Step 2: Read sticky note comments from the mural into a DataFrame\n",
    "\n",
    "<ol style=\"list-style: none; margin: 20px 0px 0px 0px; padding: 0px\">\n",
    "<li style=\"margin: 0px 0px 3px 0px;\"><b>2.1</b>: Read widgets from the mural</li>\n",
    "<li style=\"margin: 0px 0px 3px 0px;\"><b>2.2:</b> Put sticky note data in a DataFrame</li>\n",
    "</ol>"
   ]
  },
  {
   "cell_type": "markdown",
   "metadata": {},
   "source": [
    "## 2.1 Read widgets from the mural"
   ]
  },
  {
   "cell_type": "code",
   "execution_count": null,
   "metadata": {},
   "outputs": [],
   "source": [
    "# Cell: 09\n",
    "\n",
    "def listWidgets( room_name, workshop_key, mural_id  ):\n",
    "    mural_oauth_token = refreshAccessToken( room_name, workshop_key )\n",
    "    if mural_oauth_token is None:\n",
    "        return\n",
    "    # https://developers.mural.co/public/reference/getmuralwidgets\n",
    "    url = \"https://app.mural.co/api/public/v1/murals/\" + mural_id + \"/widgets\"\n",
    "    headers = { \"Content-Type\" : \"application/json\", \"Accept\": \"application/json\", \"Authorization\": \"Bearer \" + mural_oauth_token }\n",
    "    response = requests.request( \"GET\", url, headers = headers )\n",
    "    response_json = response.json()\n",
    "    msg = \"\"\n",
    "    if \"code\" in response_json:\n",
    "        msg += response_json[\"code\"] + \" \"\n",
    "    if \"message\" in response_json:\n",
    "        msg += response_json[\"message\"]\n",
    "    if msg != \"\":\n",
    "        print( msg )\n",
    "        return None\n",
    "    if \"value\" not in response_json:\n",
    "        print( \"No value returned\" )\n",
    "        return None\n",
    "    return response_json[\"value\"]"
   ]
  },
  {
   "cell_type": "code",
   "execution_count": null,
   "metadata": {},
   "outputs": [],
   "source": [
    "# Cell: 10\n",
    "\n",
    "g_mural_widgets_arr = listWidgets( g_room_name, g_workshop_key, g_mural_id  )\n",
    "print( \"Done\" )"
   ]
  },
  {
   "cell_type": "code",
   "execution_count": null,
   "metadata": {},
   "outputs": [],
   "source": [
    "# Cell: 11\n",
    "\n",
    "print( json.dumps( g_mural_widgets_arr, indent=3 ) )"
   ]
  },
  {
   "cell_type": "markdown",
   "metadata": {},
   "source": [
    "## 2.2 Put sticky note data in a DataFrame"
   ]
  },
  {
   "cell_type": "code",
   "execution_count": null,
   "metadata": {},
   "outputs": [],
   "source": [
    "# Cell: 12\n",
    "\n",
    "import pandas as pd\n",
    "\n",
    "widgets_df_full = pd.DataFrame( g_mural_widgets_arr )\n",
    "g_stickies_df = widgets_df_full[ widgets_df_full[\"type\"] == \"sticky note\" ].copy()\n",
    "g_stickies_df = g_stickies_df[[\"id\",\"x\", \"y\",\"width\",\"height\",\"text\"]].reset_index( drop=True )\n",
    "g_stickies_df"
   ]
  },
  {
   "cell_type": "code",
   "execution_count": null,
   "metadata": {},
   "outputs": [],
   "source": []
  },
  {
   "cell_type": "markdown",
   "metadata": {},
   "source": [
    "# Step 3: Analyze the sentiment of sticky note comments\n",
    "\n",
    "<ol style=\"list-style: none; margin: 20px 0px 0px 0px; padding: 0px\">\n",
    "<li style=\"margin: 0px 0px 3px 0px;\"><b>3.1:</b> Set up Watson NLP library</li>\n",
    "<li style=\"margin: 0px 0px 3px 0px;\"><b>3.2:</b> Define function to analyze sentiment in a DataFrame</li>\n",
    "<li style=\"margin: 0px 0px 3px 0px;\"><b>3.3:</b> Analyze sentiment in the sticky notes DataFrame</li>\n",
    "</ol>"
   ]
  },
  {
   "cell_type": "markdown",
   "metadata": {},
   "source": [
    "## 3.1 Set up Watson NLP library"
   ]
  },
  {
   "cell_type": "code",
   "execution_count": null,
   "metadata": {},
   "outputs": [],
   "source": [
    "# Cell: 13\n",
    "\n",
    "import watson_nlp\n",
    "from watson_nlp.toolkit import predict_document_sentiment\n",
    "\n",
    "g_syntax_model = watson_nlp.load( watson_nlp.download( \"syntax_izumo_en_stock\" ) )\n",
    "print( \"Done\" )"
   ]
  },
  {
   "cell_type": "code",
   "execution_count": null,
   "metadata": {},
   "outputs": [],
   "source": [
    "# Cell: 14\n",
    "\n",
    "g_sentiment_model = watson_nlp.load( watson_nlp.download( \"sentiment_sentence-bert_multi_stock\" ) )\n",
    "print( \"Done\" )"
   ]
  },
  {
   "cell_type": "code",
   "execution_count": null,
   "metadata": {},
   "outputs": [],
   "source": [
    "# Cell: 15\n",
    "\n",
    "import re\n",
    "\n",
    "def analyzeComment( comment ):\n",
    "    syntax_result = g_syntax_model.run( comment )\n",
    "    sentiment_result  = g_sentiment_model.run_batch( syntax_result.get_sentence_texts(), syntax_result.sentences )\n",
    "    document_sentiment = predict_document_sentiment( sentiment_result, g_sentiment_model.class_idxs )\n",
    "    sentiment_dict = document_sentiment.to_dict()\n",
    "    sentiment_dict[\"label\"] = re.sub( r\"^.*_\", \"\", sentiment_dict[\"label\"].lower() ).title()\n",
    "    return sentiment_dict"
   ]
  },
  {
   "cell_type": "code",
   "execution_count": null,
   "metadata": {},
   "outputs": [],
   "source": [
    "# Cell: 16\n",
    "\n",
    "analyzeComment( \"Walking in the woods makes me so happy and relaxed!\" )"
   ]
  },
  {
   "cell_type": "markdown",
   "metadata": {},
   "source": [
    "## 3.2 Define function to analyze sentiment in a DataFrame"
   ]
  },
  {
   "cell_type": "code",
   "execution_count": null,
   "metadata": {},
   "outputs": [],
   "source": [
    "# Cell: 17\n",
    "\n",
    "def generateSentimentColumns( row ):\n",
    "    comment = row[\"text\"]\n",
    "    sentiment_dict = analyzeComment( comment )\n",
    "    return sentiment_dict[\"label\"], sentiment_dict[\"score\"]"
   ]
  },
  {
   "cell_type": "code",
   "execution_count": null,
   "metadata": {},
   "outputs": [],
   "source": [
    "# Cell: 18\n",
    "\n",
    "test_df = g_stickies_df[0:2].copy();\n",
    "test_df"
   ]
  },
  {
   "cell_type": "code",
   "execution_count": null,
   "metadata": {},
   "outputs": [],
   "source": [
    "# Cell: 19\n",
    "\n",
    "test_df[ [ \"SENTIMENT\", \"SENTIMENT_SCORE\" ] ] = test_df.apply ( generateSentimentColumns, axis=1, result_type=\"expand\" )\n",
    "test_df"
   ]
  },
  {
   "cell_type": "markdown",
   "metadata": {},
   "source": [
    "## 3.3 Analyze sentiment in the sticky notes DataFrame"
   ]
  },
  {
   "cell_type": "code",
   "execution_count": null,
   "metadata": {},
   "outputs": [],
   "source": [
    "# Cell: 20\n",
    "\n",
    "g_stickies_w_sentiment_df = g_stickies_df.copy()\n",
    "g_stickies_w_sentiment_df[ [ \"SENTIMENT\", \"SENTIMENT_SCORE\" ] ] = g_stickies_w_sentiment_df.apply ( generateSentimentColumns, axis=1, result_type=\"expand\" )\n",
    "g_stickies_w_sentiment_df"
   ]
  },
  {
   "cell_type": "code",
   "execution_count": null,
   "metadata": {},
   "outputs": [],
   "source": []
  },
  {
   "cell_type": "markdown",
   "metadata": {},
   "source": [
    "# Step 4: Color sticky notes by sentiment\n",
    "\n",
    "<ol style=\"list-style: none; margin: 20px 0px 0px 0px; padding: 0px\">\n",
    "<li style=\"margin: 0px 0px 3px 0px;\"><b>4.1:</b> Create functions to color the stick notes</li>\n",
    "<li style=\"margin: 0px 0px 3px 0px;\"><b>4.2:</b> Color the sticky notes in the mural</li>\n",
    "</ol>"
   ]
  },
  {
   "cell_type": "markdown",
   "metadata": {},
   "source": [
    "## 4.1 Create functions to color the stick notes"
   ]
  },
  {
   "cell_type": "code",
   "execution_count": null,
   "metadata": {},
   "outputs": [],
   "source": [
    "# Cell: 21\n",
    "\n",
    "def colorSticky( sticky_id, new_color, mural_oauth_token, mural_id ):\n",
    "    # https://developers.mural.co/public/reference/updatestickynote\n",
    "    url = \"https://app.mural.co/api/public/v1/murals/\" + mural_id + \"/widgets/sticky-note/\" + sticky_id\n",
    "    headers = { \"Content-Type\" : \"application/json\", \"Accept\" : \"application/json\", \"Authorization\" : \"Bearer \" + mural_oauth_token }\n",
    "    data = json.dumps( { \"style\" : { \"backgroundColor\" : new_color } } )\n",
    "    response = requests.request( \"PATCH\", url, headers=headers, data=data )\n",
    "    response_json = response.json()\n",
    "    msg = \"\"\n",
    "    if \"code\" in response_json:\n",
    "        msg += response_json[\"code\"] + \" \"\n",
    "    if \"message\" in response_json:\n",
    "        msg += response_json[\"message\"]\n",
    "    return msg\n",
    "\n",
    "sentiment_colors = {\n",
    "    # Color palette: https://coolors.co/palette/ff595e-ffca3a-8ac926-1982c4-6a4c93\n",
    "    \"Positive\" : \"#FFCA3AFF\",\n",
    "    \"Neutral\"  : \"#8AC926FF\",\n",
    "    \"Negative\" : \"#1982C4FF\"\n",
    "}\n",
    "\n",
    "def colorBySentiment( room_name, workshop_key, mural_id, sentiment_df ):\n",
    "    mural_oauth_token = refreshAccessToken( room_name, workshop_key )\n",
    "    if mural_oauth_token is None:\n",
    "        return\n",
    "    for index, row in sentiment_df.iterrows():\n",
    "        sticky_id = row[\"id\"]\n",
    "        sentiment = row[\"SENTIMENT\"]\n",
    "        new_color = sentiment_colors[ sentiment ]\n",
    "        error_str = colorSticky( sticky_id, new_color, mural_oauth_token, mural_id )\n",
    "        if error_str:\n",
    "            print( \"Changing sticky color failed\" )\n",
    "            print( \"index: \" + str( index ) )\n",
    "            print( \"MURAL error message:\" )\n",
    "            print( error_str )\n",
    "            return\n",
    "    print( \"Done\" )"
   ]
  },
  {
   "cell_type": "markdown",
   "metadata": {},
   "source": [
    "## 4.2 Color the sticky notes in the mural"
   ]
  },
  {
   "cell_type": "code",
   "execution_count": null,
   "metadata": {},
   "outputs": [],
   "source": [
    "# Cell: 22\n",
    "\n",
    "time.sleep(5)\n",
    "\n",
    "# Quick!  After running this cell, switch to your browser \n",
    "# tab where the mural is to see the stickies change color\n",
    "# ...\n",
    "colorBySentiment( g_room_name, g_workshop_key, g_mural_id, g_stickies_w_sentiment_df )"
   ]
  },
  {
   "cell_type": "markdown",
   "metadata": {},
   "source": [
    "When the previous cell runs, you should see the color of the sticky notes in your mural change like this:\n",
    "\n",
    "<img src=\"https://github.com/spackows/MURAL-API-Samples/blob/main/images/sample-project-01_color-by-sentiment-2.gif?raw=true\" alt=\"Workshop mural\" width=\"60%\" />"
   ]
  },
  {
   "cell_type": "code",
   "execution_count": null,
   "metadata": {},
   "outputs": [],
   "source": []
  },
  {
   "cell_type": "markdown",
   "metadata": {},
   "source": [
    "# Step 5: Identify nouns in sticky note comments\n",
    "\n",
    "<ol style=\"list-style: none; margin: 20px 0px 0px 0px; padding: 0px\">\n",
    "<li style=\"margin: 0px 0px 3px 0px;\"><b>5.1:</b> Examine output from Watson NLP syntax model</li>\n",
    "<li style=\"margin: 0px 0px 3px 0px;\"><b>5.2:</b> Define functions to analyze syntax in a DataFrame</li>\n",
    "<li style=\"margin: 0px 0px 3px 0px;\"><b>5.3:</b> Analyze syntax in the sticky notes DataFrame</li>\n",
    "</ol>"
   ]
  },
  {
   "cell_type": "markdown",
   "metadata": {},
   "source": [
    "## 5.1 Examine output from Watson NLP syntax model"
   ]
  },
  {
   "cell_type": "code",
   "execution_count": null,
   "metadata": {},
   "outputs": [],
   "source": [
    "# Cell: 23\n",
    "\n",
    "sample_comment = \"I really enjoyed going out to lunch today!\"\n",
    "syntax_result = g_syntax_model.run( sample_comment, parsers=( \"token\", \"lemma\", \"part_of_speech\" ) )\n",
    "syntax_result"
   ]
  },
  {
   "cell_type": "markdown",
   "metadata": {},
   "source": [
    "## 5.2 Define functions to analyze syntax in a DataFrame"
   ]
  },
  {
   "cell_type": "code",
   "execution_count": null,
   "metadata": {},
   "outputs": [],
   "source": [
    "# Cell: 24\n",
    "\n",
    "def getPOS( tokens_arr ):\n",
    "    result = { \"POS_NOUN\" : [], \"POS_VERB\" : [], \"POS_ADJ\" : [], \"POS_ADV\" : [] }\n",
    "    for token in tokens_arr:\n",
    "        txt = token[\"lemma\"] if token[\"lemma\"] else token[\"span\"][\"text\"].lower()\n",
    "        pos = token[\"part_of_speech\"]\n",
    "        if pos in result.keys():\n",
    "            result[ pos ].append( txt )\n",
    "    return result\n",
    "\n",
    "def generateSyntaxColumns( row ):\n",
    "    comment = row[\"text\"]\n",
    "    syntax_dict = g_syntax_model.run( comment, parsers=( \"token\", \"lemma\", \"part_of_speech\" ) ).to_dict()\n",
    "    pos = getPOS( syntax_dict[\"tokens\"] )\n",
    "    return pos[\"POS_NOUN\"], pos[\"POS_ADJ\"]"
   ]
  },
  {
   "cell_type": "code",
   "execution_count": null,
   "metadata": {},
   "outputs": [],
   "source": [
    "# Cell: 25\n",
    "\n",
    "# \"I really enjoyed going out to lunch today!\"\n",
    "\n",
    "getPOS( syntax_result.to_dict()[\"tokens\"] )"
   ]
  },
  {
   "cell_type": "code",
   "execution_count": null,
   "metadata": {},
   "outputs": [],
   "source": [
    "# Cell: 26\n",
    "\n",
    "test_df = g_stickies_w_sentiment_df[0:2].copy();\n",
    "test_df[ [ \"NOUNS\", \"ADJECTIVES\" ] ] = test_df.apply ( generateSyntaxColumns, axis=1, result_type=\"expand\" )\n",
    "test_df"
   ]
  },
  {
   "cell_type": "markdown",
   "metadata": {},
   "source": [
    "## 5.3 Analyze syntax in the sticky notes DataFrame"
   ]
  },
  {
   "cell_type": "code",
   "execution_count": null,
   "metadata": {},
   "outputs": [],
   "source": [
    "# Cell: 27\n",
    "\n",
    "g_stickies_w_pos_df = g_stickies_w_sentiment_df.copy()\n",
    "g_stickies_w_pos_df[ [ \"NOUNS\", \"ADJECTIVES\" ] ] = g_stickies_w_pos_df.apply ( generateSyntaxColumns, axis=1, result_type=\"expand\" )\n",
    "g_stickies_w_pos_df"
   ]
  },
  {
   "cell_type": "code",
   "execution_count": null,
   "metadata": {},
   "outputs": [],
   "source": []
  },
  {
   "cell_type": "markdown",
   "metadata": {},
   "source": [
    "# Step 6: Visualize nouns in a chart\n",
    "\n",
    "<ol style=\"list-style: none; margin: 20px 0px 0px 0px; padding: 0px\">\n",
    "<li style=\"margin: 0px 0px 3px 0px;\"><b>6.1:</b> Count the nouns in the sticky notes DataFrame</li>\n",
    "<li style=\"margin: 0px 0px 3px 0px;\"><b>6.2:</b> Create a function for plotting the noun totals</li>\n",
    "<li style=\"margin: 0px 0px 3px 0px;\"><b>6.3:</b> Plot the noun totals</li>\n",
    "</ol>"
   ]
  },
  {
   "cell_type": "markdown",
   "metadata": {},
   "source": [
    "## 6.1 Count the nouns in the sticky notes DataFrame"
   ]
  },
  {
   "cell_type": "code",
   "execution_count": null,
   "metadata": {},
   "outputs": [],
   "source": [
    "# Cell: 28\n",
    "\n",
    "from collections import OrderedDict\n",
    "\n",
    "def countNouns( pos_df, min_count ):\n",
    "    all_nouns = {}\n",
    "    for index, row in pos_df.iterrows():\n",
    "        nouns_arr = row[\"NOUNS\"]\n",
    "        for noun in nouns_arr:\n",
    "            if noun not in all_nouns:\n",
    "                all_nouns[noun] = 0\n",
    "            all_nouns[noun] += 1\n",
    "    common_nouns = dict( [ (k,v) for k,v in all_nouns.items() if v > min_count ] )\n",
    "    ordered_common_nouns = OrderedDict( sorted( common_nouns.items(), key=lambda x:x[1], reverse=True ) )\n",
    "    return ordered_common_nouns"
   ]
  },
  {
   "cell_type": "code",
   "execution_count": null,
   "metadata": {},
   "outputs": [],
   "source": [
    "# Cell: 29\n",
    "\n",
    "all_nouns_od = countNouns( g_stickies_w_pos_df, 0 )\n",
    "all_nouns_od"
   ]
  },
  {
   "cell_type": "code",
   "execution_count": null,
   "metadata": {},
   "outputs": [],
   "source": [
    "# Cell: 30\n",
    "\n",
    "common_nouns_od = countNouns( g_stickies_w_pos_df, 1 )\n",
    "common_nouns_od"
   ]
  },
  {
   "cell_type": "markdown",
   "metadata": {},
   "source": [
    "## 6.2 Create a function for plotting the noun totals"
   ]
  },
  {
   "cell_type": "code",
   "execution_count": null,
   "metadata": {},
   "outputs": [],
   "source": [
    "# Cell: 31\n",
    "\n",
    "import random\n",
    "import numpy as np\n",
    "import matplotlib.pyplot as plt\n",
    "\n",
    "# Color palette: https://coolors.co/palette/001219-005f73-0a9396-94d2bd-e9d8a6-ee9b00-ca6702-bb3e03-ae2012-9b2226\n",
    "colors_arr = [ \n",
    "    \"#001219FF\",\n",
    "    \"#005F73FF\",\n",
    "    \"#0A9396FF\",\n",
    "    \"#94D2BDFF\",\n",
    "    \"#E9D8A6FF\",\n",
    "    \"#EE9B00FF\",\n",
    "    \"#CA6702FF\",\n",
    "    \"#BB3E03FF\",\n",
    "    \"#AE2012FF\",\n",
    "    \"#9B2226FF\"\n",
    "]\n",
    "\n",
    "def random_colours( num ):\n",
    "    rand_indexes = random.sample( range( 0, len( colors_arr ) - 1 ), num )\n",
    "    colour_list = [ colors_arr[i] for i in rand_indexes ]\n",
    "    return colour_list\n",
    "\n",
    "def plot_words( title, ordered_words ):\n",
    "    values    = ordered_words.values()\n",
    "    labels    = list( ordered_words.keys() )\n",
    "    num_bars  = len( labels )\n",
    "    positions = np.arange( num_bars )\n",
    "    colours   = random_colours( num_bars )\n",
    "    \n",
    "    fig, axs = plt.subplots( 1, 1, figsize=( 15, 5 ) )\n",
    "    axs.bar( positions, values, color=colours, edgecolor=\"black\" )\n",
    "    plt.xticks( positions, labels ) \n",
    "    plt.tick_params( axis='both', which='major', labelsize=16)\n",
    "    plt.suptitle( title, fontsize=20 )"
   ]
  },
  {
   "cell_type": "markdown",
   "metadata": {},
   "source": [
    "## 6.3 Plot the noun totals"
   ]
  },
  {
   "cell_type": "code",
   "execution_count": null,
   "metadata": {},
   "outputs": [],
   "source": [
    "# Cell: 32\n",
    "\n",
    "plot_words( \"Common nouns in mural comments\", common_nouns_od )"
   ]
  },
  {
   "cell_type": "code",
   "execution_count": null,
   "metadata": {},
   "outputs": [],
   "source": []
  },
  {
   "cell_type": "code",
   "execution_count": null,
   "metadata": {},
   "outputs": [],
   "source": []
  }
 ],
 "metadata": {
  "kernelspec": {
   "display_name": "Python 3.9",
   "language": "python",
   "name": "python3"
  },
  "language_info": {
   "codemirror_mode": {
    "name": "ipython",
    "version": 3
   },
   "file_extension": ".py",
   "mimetype": "text/x-python",
   "name": "python",
   "nbconvert_exporter": "python",
   "pygments_lexer": "ipython3",
   "version": "3.9.13"
  }
 },
 "nbformat": 4,
 "nbformat_minor": 1
}
