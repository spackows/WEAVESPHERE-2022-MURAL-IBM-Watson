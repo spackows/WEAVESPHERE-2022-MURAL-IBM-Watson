{
 "cells": [
  {
   "cell_type": "markdown",
   "metadata": {
    "collapsed": true
   },
   "source": [
    "# Workshop Part 2 of 2"
   ]
  },
  {
   "cell_type": "markdown",
   "metadata": {},
   "source": [
    "At the beginning of the workshop, you were given a room name and workshop key.\n",
    "\n",
    "Type those in the following cell, and then run the cell to assign them to global variables to be used throughout the rest of this notebook."
   ]
  },
  {
   "cell_type": "code",
   "execution_count": null,
   "metadata": {},
   "outputs": [],
   "source": [
    "# Cell: 01\n",
    "\n",
    "g_room_name = \"\"\n",
    "g_workshop_key = \"\""
   ]
  },
  {
   "cell_type": "code",
   "execution_count": null,
   "metadata": {},
   "outputs": [],
   "source": []
  },
  {
   "cell_type": "markdown",
   "metadata": {},
   "source": [
    "# Table of contents\n",
    "\n",
    "<ol style=\"list-style: none; margin: 20px 0px 0px 0px; padding: 0px\">\n",
    "<li style=\"margin: 0px 0px 3px 0px;\"><b>Step 7:</b> Catch up from Part 1 of the workshop</li>\n",
    "<li style=\"margin: 0px 0px 3px 0px;\"><b>Step 8:</b> Customize NLP model for domain using dictionaries</li>\n",
    "<li style=\"margin: 0px 0px 3px 0px;\"><b>Step 9:</b> Identify entities in sticky note comments</li>\n",
    "<li style=\"margin: 0px 0px 3px 0px;\"><b>Step 10:</b> Cluster sticky notes by entities</li>\n",
    "<li style=\"margin: 0px 0px 3px 0px;\"><b>Step 11:</b> Add positional data to improve clustering</li>\n",
    "<li style=\"margin: 0px 0px 3px 0px;\"><b>Step 12:</b> Visualize clusters in the mural</li>\n",
    "<li style=\"margin: 0px 0px 3px 0px;\"><b>Step 13:</b> Add a chart to the mural</li>\n",
    "</ol>"
   ]
  },
  {
   "cell_type": "code",
   "execution_count": null,
   "metadata": {},
   "outputs": [],
   "source": []
  },
  {
   "cell_type": "markdown",
   "metadata": {},
   "source": [
    "# Step 7: Catch up from Part 1 of the workshop\n",
    "\n",
    "<ol style=\"list-style: none; margin: 20px 0px 0px 0px; padding: 0px\">\n",
    "<li style=\"margin: 0px 0px 3px 0px;\"><b>7.1</b> Create a mural with sample sticky notes</li>\n",
    "<li style=\"margin: 0px 0px 3px 0px;\"><b>7.2</b> Put sticky note data into a DataFrame</li>\n",
    "<li style=\"margin: 0px 0px 3px 0px;\"><b>7.3</b> Run NLP analysis on sticky note comments</li>\n",
    "</ol>"
   ]
  },
  {
   "cell_type": "markdown",
   "metadata": {},
   "source": [
    "## 7.1 Create a mural with sample sticky notes"
   ]
  },
  {
   "cell_type": "code",
   "execution_count": null,
   "metadata": {},
   "outputs": [],
   "source": [
    "# Cell: 02\n",
    "\n",
    "import requests\n",
    "import json\n",
    "from IPython.display import display, HTML\n",
    "\n",
    "def setUpForPart2( room_name, workshop_key ):\n",
    "    url = \"https://weavesphere-mural-oauth.tqns6lm651z.us-south.codeengine.appdomain.cloud/create-mural-workshop-part2\"\n",
    "    headers = { \"Content-Type\" : \"application/json\", \"Accept\" : \"application/json\" }\n",
    "    data = json.dumps( { \"room_name\" : room_name, \"workshop_key\" : workshop_key } )\n",
    "    response = requests.request( \"POST\", url, headers=headers, data=data )\n",
    "    response_json = response.json()\n",
    "    if \"error_str\" in response_json:\n",
    "        print( response_json[\"error_str\"] )\n",
    "        return None\n",
    "    if \"mural_id\" not in response_json:\n",
    "        print( \"Field 'mural_id' not returned in result\\nResult:\" + json.dumps( response_json, indent=3 ) )\n",
    "        return None\n",
    "    if \"mural_link\" not in response_json:\n",
    "        print( \"Field 'mural_link' not returned in result\\nResult:\"+ json.dumps( response_json, indent=3 ) )\n",
    "        return None\n",
    "    if \"widgets_arr\" not in response_json:\n",
    "        print( \"Field 'widgets_arr' not returned in result\\nResult:\"+ json.dumps( response_json, indent=3 ) )\n",
    "        return None\n",
    "    mural_id = response_json[\"mural_id\"]\n",
    "    mural_link = response_json[\"mural_link\"]\n",
    "    widgets_arr = response_json[\"widgets_arr\"]\n",
    "    html = HTML( \"<h3>Mural for: Workshop Part 2 of 2</h3>\" + \n",
    "             \"<p>Mural ID: <code>\" + mural_id + \"</code></p>\" +\n",
    "             \"<p>\\\"Visitor\\\" link: <a href='\" + mural_link + \"' target='_other'>Click to open mural in a new tab</a></p>\" )\n",
    "    display( html )\n",
    "    return mural_id, mural_link, widgets_arr"
   ]
  },
  {
   "cell_type": "code",
   "execution_count": null,
   "metadata": {},
   "outputs": [],
   "source": [
    "# Cell: 03\n",
    "\n",
    "g_mural_id, g_mural_link, g_widgets_arr = setUpForPart2( g_room_name, g_workshop_key )"
   ]
  },
  {
   "cell_type": "markdown",
   "metadata": {},
   "source": [
    "## 7.2 Put sticky note data into a DataFrame"
   ]
  },
  {
   "cell_type": "code",
   "execution_count": null,
   "metadata": {},
   "outputs": [],
   "source": [
    "# Cell: 04\n",
    "\n",
    "import pandas as pd\n",
    "\n",
    "widgets_df_full = pd.DataFrame( g_widgets_arr )\n",
    "g_stickies_df = widgets_df_full[ widgets_df_full[\"type\"] == \"sticky-note\" ].copy()\n",
    "g_stickies_df = g_stickies_df[[\"id\",\"x\", \"y\",\"width\",\"height\",\"text\"]].reset_index( drop=True )\n",
    "g_stickies_df"
   ]
  },
  {
   "cell_type": "markdown",
   "metadata": {},
   "source": [
    "## 7.3 Run NLP analysis on sticky note comments"
   ]
  },
  {
   "cell_type": "code",
   "execution_count": null,
   "metadata": {},
   "outputs": [],
   "source": [
    "# Cell: 05\n",
    "\n",
    "import watson_nlp\n",
    "from watson_nlp.toolkit import predict_document_sentiment\n",
    "\n",
    "g_syntax_model = watson_nlp.load( watson_nlp.download( \"syntax_izumo_en_stock\" ) )\n",
    "print( \"Done\" )"
   ]
  },
  {
   "cell_type": "code",
   "execution_count": null,
   "metadata": {},
   "outputs": [],
   "source": [
    "# Cell: 06\n",
    "\n",
    "g_sentiment_model = watson_nlp.load( watson_nlp.download( \"sentiment_sentence-bert_multi_stock\" ) )\n",
    "print( \"Done\" )"
   ]
  },
  {
   "cell_type": "code",
   "execution_count": null,
   "metadata": {},
   "outputs": [],
   "source": [
    "# Cell: 07\n",
    "\n",
    "import re\n",
    "\n",
    "def analyzeComment( comment ):\n",
    "    syntax_result = g_syntax_model.run( comment )\n",
    "    sentiment_result  = g_sentiment_model.run_batch( syntax_result.get_sentence_texts(), syntax_result.sentences )\n",
    "    document_sentiment = predict_document_sentiment( sentiment_result, g_sentiment_model.class_idxs )\n",
    "    sentiment_dict = document_sentiment.to_dict()\n",
    "    sentiment_dict[\"label\"] = re.sub( r\"^.*_\", \"\", sentiment_dict[\"label\"].lower() ).title()\n",
    "    return sentiment_dict\n",
    "\n",
    "def generateSentimentColumns( row ):\n",
    "    comment = row[\"text\"]\n",
    "    sentiment_dict = analyzeComment( comment )\n",
    "    return sentiment_dict[\"label\"], sentiment_dict[\"score\"]\n",
    "\n",
    "def getPOS( tokens_arr ):\n",
    "    result = { \"POS_NOUN\" : [], \"POS_VERB\" : [], \"POS_ADJ\" : [], \"POS_ADV\" : [] }\n",
    "    for token in tokens_arr:\n",
    "        txt = token[\"lemma\"] if token[\"lemma\"] else token[\"span\"][\"text\"].lower()\n",
    "        pos = token[\"part_of_speech\"]\n",
    "        if pos in result.keys():\n",
    "            result[ pos ].append( txt )\n",
    "    return result\n",
    "\n",
    "def generateSyntaxColumns( row ):\n",
    "    comment = row[\"text\"]\n",
    "    syntax_dict = g_syntax_model.run( comment, parsers=( \"token\", \"lemma\", \"part_of_speech\" ) ).to_dict()\n",
    "    pos = getPOS( syntax_dict[\"tokens\"] )\n",
    "    return pos[\"POS_NOUN\"], pos[\"POS_ADJ\"]"
   ]
  },
  {
   "cell_type": "code",
   "execution_count": null,
   "metadata": {},
   "outputs": [],
   "source": [
    "# Cell: 08\n",
    "\n",
    "g_stickies_w_sentiment_df = g_stickies_df.copy()\n",
    "g_stickies_w_sentiment_df[ [ \"SENTIMENT\", \"SENTIMENT_SCORE\" ] ] = g_stickies_w_sentiment_df.apply ( generateSentimentColumns, axis=1, result_type=\"expand\" )\n",
    "g_stickies_w_pos_df = g_stickies_w_sentiment_df.copy()\n",
    "g_stickies_w_pos_df[ [ \"NOUNS\", \"ADJECTIVES\" ] ] = g_stickies_w_pos_df.apply ( generateSyntaxColumns, axis=1, result_type=\"expand\" )\n",
    "g_stickies_w_pos_df"
   ]
  },
  {
   "cell_type": "code",
   "execution_count": null,
   "metadata": {},
   "outputs": [],
   "source": []
  },
  {
   "cell_type": "markdown",
   "metadata": {},
   "source": [
    "# Step 8: Customize NLP model for domain using dictionaries\n",
    "\n",
    "The Watson NLP library provides a mechanism to easily create dictionaries of domain-specific terms and then extract entities from text using those dictionaries.\n",
    "\n",
    "See: [Detecting entities with a custom dictionary](https://dataplatform.cloud.ibm.com/docs/content/wsj/analyze-data/watson-nlp-entities-dict.html?context=cpdaas&audience=wdp)\n",
    "\n",
    "<ol style=\"list-style: none; margin: 20px 0px 0px 0px; padding: 0px\">\n",
    "<li style=\"margin: 0px 0px 3px 0px;\"><b>8.1</b> Create a directory for custom dictionary files</li>\n",
    "<li style=\"margin: 0px 0px 3px 0px;\"><b>8.2</b> Create a dictionary file for lunch-related terms</li>\n",
    "<li style=\"margin: 0px 0px 3px 0px;\"><b>8.3</b> Create a dictionary file for golf-related terms</li>\n",
    "<li style=\"margin: 0px 0px 3px 0px;\"><b>8.4</b> Create custom dictionaries</li>\n",
    "<li style=\"margin: 0px 0px 3px 0px;\"><b>8.5</b> Test extracting entities using custom dictionaries</li>\n",
    "</ol>"
   ]
  },
  {
   "cell_type": "markdown",
   "metadata": {},
   "source": [
    "## 8.1 Create a directory for custom dictionary files"
   ]
  },
  {
   "cell_type": "code",
   "execution_count": null,
   "metadata": {},
   "outputs": [],
   "source": [
    "# Cell: 09\n",
    "\n",
    "import os\n",
    "dictionaries_dir = \"Custom_NLP\" \n",
    "os.makedirs( dictionaries_dir, exist_ok=True )\n",
    "print( \"Done\")"
   ]
  },
  {
   "cell_type": "markdown",
   "metadata": {},
   "source": [
    "## 8.2 Create a dictionary file for lunch-related terms"
   ]
  },
  {
   "cell_type": "code",
   "execution_count": null,
   "metadata": {},
   "outputs": [],
   "source": [
    "# Cell: 10\n",
    "\n",
    "lunch_file = 'lunch.csv'\n",
    "with open( os.path.join( dictionaries_dir, lunch_file ), 'w' ) as table:\n",
    "    table.write( \"\\\"label\\\", \\\"entry\\\"\\n\" )\n",
    "    table.write( \"\\\"LOCATION\\\", \\\"far\\\"\\n\" )\n",
    "    table.write( \"\\\"MENU\\\", \\\"vegetarian\\\"\\n\" )\n",
    "    table.write( \"\\\"SERVICE\\\", \\\"service\\\"\\n\" )\n",
    "    table.write( \"\\\"SERVICE\\\", \\\"slow\\\"\\n\" )\n",
    "    table.write( \"\\\"SERVICE\\\", \\\"waiter\\\"\\n\" )\n",
    "    table.write( \"\\\"FOOD\\\", \\\"food\\\"\\n\" )\n",
    "    table.write( \"\\\"FOOD\\\", \\\"bread\\\"\\n\" )\n",
    "    table.write( \"\\\"FOOD\\\", \\\"fresh\\\"\\n\" )\n",
    "    table.write( \"\\\"LUNCH\\\", \\\"lunch\\\"\\n\" )\n",
    "print( \"Done\" )"
   ]
  },
  {
   "cell_type": "code",
   "execution_count": null,
   "metadata": {},
   "outputs": [],
   "source": [
    "# Cell: 11\n",
    "\n",
    "!cat Custom_NLP/lunch.csv"
   ]
  },
  {
   "cell_type": "markdown",
   "metadata": {},
   "source": [
    "## 8.3 Create a dictionary file for golf-related terms"
   ]
  },
  {
   "cell_type": "code",
   "execution_count": null,
   "metadata": {},
   "outputs": [],
   "source": [
    "# Cell: 12\n",
    "\n",
    "golf_file = 'mini-golf.csv'\n",
    "with open( os.path.join( dictionaries_dir, golf_file ), 'w' ) as table:\n",
    "    table.write( \"\\\"label\\\", \\\"entry\\\"\\n\" )\n",
    "    table.write( \"\\\"GOLF\\\", \\\"mini-golf\\\"\\n\" )\n",
    "    table.write( \"\\\"GOLF\\\", \\\"minigolf\\\"\\n\" )\n",
    "    table.write( \"\\\"GOLF\\\", \\\"golf\\\"\\n\" )\n",
    "    table.write( \"\\\"PLAY\\\", \\\"hole in one\\\"\\n\" )\n",
    "    table.write( \"\\\"WEATHER\\\", \\\"weather\\\"\\n\" )\n",
    "    table.write( \"\\\"WEATHER\\\", \\\"rain\\\"\\n\" )\n",
    "    table.write( \"\\\"COURSE\\\", \\\"golf course\\\"\\n\" )\n",
    "    table.write( \"\\\"COURSE\\\", \\\"course\\\"\\n\" )\n",
    "print( \"Done\" )"
   ]
  },
  {
   "cell_type": "markdown",
   "metadata": {},
   "source": [
    "## 8.4 Create custom dictionaries"
   ]
  },
  {
   "cell_type": "code",
   "execution_count": null,
   "metadata": {},
   "outputs": [],
   "source": [
    "# Cell: 13\n",
    "\n",
    "import watson_nlp\n",
    "\n",
    "lunch_config = {\n",
    "    \"name\"   : \"lunch\",\n",
    "    \"source\" : lunch_file,\n",
    "    \"dict_type\" : \"table\",\n",
    "    \"mappings\": { \"columns\": [ \"label\", \"entry\" ], \"entry\" : \"entry\" },\n",
    "    \"consolidate\" : \"ContainedWithin\",\n",
    "    \"case\"        : \"insensitive\"\n",
    "}\n",
    "\n",
    "golf_config = {\n",
    "    \"name\"   : \"golf\",\n",
    "    \"source\" : golf_file,\n",
    "    \"dict_type\" : \"table\",\n",
    "    \"mappings\": { \"columns\": [ \"label\", \"entry\" ], \"entry\" : \"entry\" },\n",
    "    \"consolidate\" : \"ContainedWithin\",\n",
    "    \"case\"        : \"insensitive\"\n",
    "}\n",
    "\n",
    "dict_arr = watson_nlp.toolkit.DictionaryConfig.load_all( [ lunch_config, golf_config ] )\n",
    "\n",
    "g_custom_dictionaries = watson_nlp.resources.feature_extractor.RBR.train( \n",
    "    dictionaries_dir,\n",
    "    language = \"en\", \n",
    "    dictionaries = dict_arr\n",
    ")\n",
    "\n",
    "print( \"Done\" )"
   ]
  },
  {
   "cell_type": "markdown",
   "metadata": {},
   "source": [
    "## 8.5 Test extracting entities using custom dictionaries"
   ]
  },
  {
   "cell_type": "code",
   "execution_count": null,
   "metadata": {},
   "outputs": [],
   "source": [
    "# Cell: 14\n",
    "\n",
    "import json\n",
    "\n",
    "# Testing ...\n",
    "comment = \"The golf course was really great\"\n",
    "entities_result = g_custom_dictionaries.executor.get_raw_response( comment, language = \"en\" )\n",
    "print( json.dumps( entities_result[\"annotations\"], indent=3 ) )"
   ]
  },
  {
   "cell_type": "code",
   "execution_count": null,
   "metadata": {},
   "outputs": [],
   "source": []
  },
  {
   "cell_type": "markdown",
   "metadata": {},
   "source": [
    "# Step 9: Identify entities in sticky note comments\n",
    "\n",
    "<ol style=\"list-style: none; margin: 20px 0px 0px 0px; padding: 0px\">\n",
    "<li style=\"margin: 0px 0px 3px 0px;\"><b>9.1:</b> Define function to extract entities in a DataFrame</li>\n",
    "<li style=\"margin: 0px 0px 3px 0px;\"><b>9.2:</b> Extract entities in the sticky notes DataFrame</li>\n",
    "</ol>"
   ]
  },
  {
   "cell_type": "markdown",
   "metadata": {},
   "source": [
    "## 9.1 Define function to extract entities in a DataFrame"
   ]
  },
  {
   "cell_type": "code",
   "execution_count": null,
   "metadata": {},
   "outputs": [],
   "source": [
    "# Cell: 15\n",
    "\n",
    "import re\n",
    "\n",
    "def getTopEntities( entities_raw ):\n",
    "    entities = {}\n",
    "    dictionary_names = [ \"LUNCH\", \"GOLF\" ]\n",
    "    for category in entities_raw[\"annotations\"].keys():\n",
    "        catgory_name = re.sub( r\"^.+\\_\", \"\", category ).upper();\n",
    "        if catgory_name not in entities:\n",
    "            entities[ catgory_name ] = []\n",
    "        for match in entities_raw[\"annotations\"][category]:\n",
    "            label = match[\"label\"]\n",
    "            if ( label not in dictionary_names ) and ( label not in entities[ catgory_name ] ):\n",
    "                entities[ catgory_name ].append( label )\n",
    "    top_category, top_entities = max( entities.items(), key = lambda x: len(set(x[1])) )\n",
    "    result = { \"DICTIONARY\" : \"\", \"ENTITIES\" : [] }\n",
    "    if len( top_entities ) > 0:\n",
    "        result = { \"DICTIONARY\" : top_category, \"ENTITIES\" : top_entities }\n",
    "    return result\n",
    "    \n",
    "def generateEntitiesColumns( row ):\n",
    "    comment = row[\"text\"]\n",
    "    entities_raw = g_custom_dictionaries.executor.get_raw_response( comment, language = \"en\" )\n",
    "    entities_dict = getTopEntities( entities_raw )\n",
    "    return entities_dict[\"DICTIONARY\"], entities_dict[\"ENTITIES\"]"
   ]
  },
  {
   "cell_type": "code",
   "execution_count": null,
   "metadata": {},
   "outputs": [],
   "source": [
    "# Cell: 16\n",
    "\n",
    "test_df = g_stickies_w_pos_df[0:2].copy();\n",
    "test_df"
   ]
  },
  {
   "cell_type": "code",
   "execution_count": null,
   "metadata": {},
   "outputs": [],
   "source": [
    "# Cell: 17\n",
    "\n",
    "test_df[ [ \"DICTIONARY\", \"ENTITIES\" ] ] = test_df.apply ( generateEntitiesColumns, axis=1, result_type=\"expand\" )\n",
    "test_df"
   ]
  },
  {
   "cell_type": "markdown",
   "metadata": {},
   "source": [
    "## 9.2 Extract entities in the sticky notes DataFrame"
   ]
  },
  {
   "cell_type": "code",
   "execution_count": null,
   "metadata": {},
   "outputs": [],
   "source": [
    "# Cell: 18\n",
    "\n",
    "g_stickies_w_entities_df = g_stickies_w_pos_df.copy()\n",
    "g_stickies_w_entities_df[ [ \"DICTIONARY\", \"ENTITIES\" ] ] = g_stickies_w_entities_df.apply ( generateEntitiesColumns, axis=1, result_type=\"expand\" )\n",
    "g_stickies_w_entities_df[ [ \"text\", \"SENTIMENT\", \"SENTIMENT_SCORE\", \"NOUNS\", \"ADJECTIVES\", \"DICTIONARY\", \"ENTITIES\" ] ]"
   ]
  },
  {
   "cell_type": "code",
   "execution_count": null,
   "metadata": {},
   "outputs": [],
   "source": []
  },
  {
   "cell_type": "markdown",
   "metadata": {},
   "source": [
    "# Step 10: Cluster sticky notes by entities\n",
    "\n",
    "<ol style=\"list-style: none; margin: 20px 0px 0px 0px; padding: 0px\">\n",
    "<li style=\"margin: 0px 0px 3px 0px;\"><b>10.1</b> Define function to cluster sticky note comments by entity</li>\n",
    "<li style=\"margin: 0px 0px 3px 0px;\"><b>10.2</b> Visualize how clustering works</li>\n",
    "<li style=\"margin: 0px 0px 3px 0px;\"><b>10.3</b> Cluster sticky note comments by entity</li>\n",
    "</ol>"
   ]
  },
  {
   "cell_type": "markdown",
   "metadata": {},
   "source": [
    "## 10.1 Define function to cluster sticky note comments by entity\n",
    "\n",
    "Build a *dendrogram* to perform *hierarchical clustering* of comments based on the extracted entities.\n",
    "\n",
    "<!-- See: [scipy.cluster.hierarchy.dendrogram](https://docs.scipy.org/doc/scipy/reference/generated/scipy.cluster.hierarchy.dendrogram.html) -->\n"
   ]
  },
  {
   "cell_type": "code",
   "execution_count": null,
   "metadata": {},
   "outputs": [],
   "source": [
    "# Cell: 19\n",
    "\n",
    "from collections import OrderedDict\n",
    "from scipy.cluster.hierarchy import dendrogram, linkage\n",
    "from matplotlib import pyplot as plt\n",
    "from scipy import cluster\n",
    "\n",
    "def countWords( df, col_name, min_count ):\n",
    "    all_words = {}\n",
    "    for index, row in df.iterrows():\n",
    "        words_arr = row[ col_name ]\n",
    "        for word in words_arr:\n",
    "            if word not in all_words:\n",
    "                all_words[word] = 0\n",
    "            all_words[word] += 1\n",
    "    common_words = dict( [ (k,v) for k,v in all_words.items() if v > min_count ] )\n",
    "    ordered_common_words = OrderedDict( sorted( common_words.items(), key=lambda x:x[1], reverse=True ) )\n",
    "    return ordered_common_words\n",
    "\n",
    "def uniqueWords( df, col_name, min_count ):\n",
    "    words_od = countWords( df, col_name, min_count )\n",
    "    unique_words = list( words_od.keys() )\n",
    "    return sorted( unique_words )\n",
    "\n",
    "def buildWordsMatrix( df, col_name, min_count ):\n",
    "    unique_words = uniqueWords( df, col_name, min_count )\n",
    "    labels = []\n",
    "    matrix = []\n",
    "    indices_org = []\n",
    "    omitted_indices = []\n",
    "    for index, df_row in df.iterrows():\n",
    "        label_arr = []\n",
    "        matrix_row = []\n",
    "        for word in unique_words:\n",
    "            if word in df_row[ col_name ]:\n",
    "                label_arr.append( word )\n",
    "                matrix_row.append( 1 )\n",
    "            else:\n",
    "                matrix_row.append( 0 )\n",
    "        if( len( label_arr ) > 0 ):\n",
    "            labels.append( \" | \".join( label_arr ) )\n",
    "            matrix.append( matrix_row )\n",
    "            indices_org.append( index )\n",
    "        else:\n",
    "            omitted_indices.append( index )\n",
    "    return labels, matrix, indices_org, omitted_indices, unique_words\n",
    "\n",
    "def printExplanation( unique_labels, matrix, indices, df ):\n",
    "    maxlen = len( max( unique_labels, key=len ) ) + 2\n",
    "    print( \"\".join( [ label.rjust( maxlen ) for label in unique_labels ] ) )\n",
    "    for i in range( len( matrix ) ):\n",
    "        row = list( matrix[i] )\n",
    "        row_str = \"\".join( [ str( entry ).rjust( maxlen ) for entry in row ] )\n",
    "        print( row_str + \"  \" + df.loc[indices[i],\"text\"] )\n",
    "\n",
    "def addClusterH( df, col_name, Z, labels, indices_org, omitted_indices ):\n",
    "    cutree = cluster.hierarchy.cut_tree( Z, height=1.25 )\n",
    "    cluster_arr = []\n",
    "    for i in range( len(cutree) ):\n",
    "        cluster_num = cutree[i][0]\n",
    "        label = labels[i]\n",
    "        index = indices_org[i]\n",
    "        row = df.iloc[index]\n",
    "        cluster_arr.append( list( row ) + [ cluster_num, label ] )\n",
    "    other_cluster_num = int( max( cutree ) + 1 )\n",
    "    for index in omitted_indices:\n",
    "        row = df.iloc[index]\n",
    "        cluster_arr.append( list( row ) + [ other_cluster_num, \" | \".join( row[ col_name ] ) ] )\n",
    "    clusterH_df = pd.DataFrame( cluster_arr, columns = df.columns.tolist() + [ \"H_CLUSTER_ID\", \"LABEL\" ] )\n",
    "    return clusterH_df\n",
    "\n",
    "def clusterH( df, col_name, explain=False ):\n",
    "    labels, matrix, indices_org, omitted_indices, unique_words = buildWordsMatrix( df, col_name, 0 )\n",
    "    if explain:\n",
    "        printExplanation( unique_words, matrix, indices_org, df )\n",
    "        return;\n",
    "    Z = linkage( matrix, \"single\" )\n",
    "    plt.figure( figsize=( 5, 8 ) )\n",
    "    plt.gca().spines[\"left\"].set_visible(False)\n",
    "    plt.gca().spines[\"top\"].set_visible(False)\n",
    "    plt.gca().spines[\"right\"].set_visible(False)\n",
    "    dend = dendrogram( Z,\n",
    "                       get_leaves=True,\n",
    "                       orientation=\"left\",\n",
    "                       labels=labels,\n",
    "                       leaf_font_size=12,\n",
    "                       show_leaf_counts=True)\n",
    "    plt.show()\n",
    "    clusterH_df = addClusterH( df, col_name, Z, labels, indices_org, omitted_indices )\n",
    "    return clusterH_df.sort_values( [ \"H_CLUSTER_ID\", \"LABEL\" ], ignore_index=True )"
   ]
  },
  {
   "cell_type": "markdown",
   "metadata": {},
   "source": [
    "## 10.2 Visualize how clustering works"
   ]
  },
  {
   "cell_type": "code",
   "execution_count": null,
   "metadata": {},
   "outputs": [],
   "source": [
    "# Cell: 20\n",
    "\n",
    "clusterH( g_stickies_w_entities_df, \"ENTITIES\", explain=True )"
   ]
  },
  {
   "cell_type": "markdown",
   "metadata": {},
   "source": [
    "## 10.3 Cluster sticky note comments by entity"
   ]
  },
  {
   "cell_type": "code",
   "execution_count": null,
   "metadata": {},
   "outputs": [],
   "source": [
    "# Cell: 21\n",
    "\n",
    "g_stickies_w_cluster_df = clusterH( g_stickies_w_entities_df, \"ENTITIES\" )"
   ]
  },
  {
   "cell_type": "code",
   "execution_count": null,
   "metadata": {},
   "outputs": [],
   "source": [
    "# Cell: 22\n",
    "\n",
    "g_stickies_w_cluster_df.iloc[:,5:]"
   ]
  },
  {
   "cell_type": "code",
   "execution_count": null,
   "metadata": {},
   "outputs": [],
   "source": []
  },
  {
   "cell_type": "markdown",
   "metadata": {},
   "source": [
    "# Step 11: Add positional data to improve clustering\n",
    "\n",
    "<ol style=\"list-style: none; margin: 20px 0px 0px 0px; padding: 0px\">\n",
    "<li style=\"margin: 0px 0px 3px 0px;\"><b>11.1</b> List shapes in the mural</li>\n",
    "<li style=\"margin: 0px 0px 3px 0px;\"><b>11.2</b> Identify the \"Lunch\" box and the \"Mini-golf\" box widgets</li>\n",
    "<li style=\"margin: 0px 0px 3px 0px;\"><b>11.3</b> Identify which box - \"Lunch\" or \"Mini-golf\" - a sticky note is closest to</li>\n",
    "<li style=\"margin: 0px 0px 3px 0px;\"><b>11.4</b> Cluster with entities and positional data</li>\n",
    "</ol>"
   ]
  },
  {
   "cell_type": "markdown",
   "metadata": {},
   "source": [
    "## 11.1 List shapes in the mural"
   ]
  },
  {
   "cell_type": "code",
   "execution_count": null,
   "metadata": {},
   "outputs": [],
   "source": [
    "# Cell: 23\n",
    "\n",
    "import requests\n",
    "\n",
    "def refreshAccessToken( room_name, workshop_key ):\n",
    "    url = \"https://weavesphere-mural-oauth.tqns6lm651z.us-south.codeengine.appdomain.cloud/refresh-token\"\n",
    "    headers = { \"Content-Type\" : \"application/json\", \"Accept\" : \"application/json\" }\n",
    "    data = json.dumps( { \"room_name\" : room_name, \"workshop_key\" : workshop_key } )\n",
    "    response = requests.request( \"POST\", url, headers=headers, data=data )\n",
    "    response_json = response.json()\n",
    "    if \"error_str\" in response_json:\n",
    "        print( response_json[\"error_str\"] )\n",
    "        return None\n",
    "    if \"access_token\" not in response_json:\n",
    "        print( \"Field 'access_token' not returned in result\" )\n",
    "        return None\n",
    "    return response_json[\"access_token\"]\n",
    "\n",
    "def listShapes( room_name, workshop_key, mural_id  ):\n",
    "    mural_oauth_token = refreshAccessToken( room_name, workshop_key )\n",
    "    if mural_oauth_token is None:\n",
    "        return\n",
    "    # https://developers.mural.co/public/reference/getmuralwidgets\n",
    "    url = \"https://app.mural.co/api/public/v1/murals/\" + mural_id + \"/widgets?type=shapes\"\n",
    "    headers = { \"Content-Type\" : \"application/json\", \"Accept\": \"application/json\", \"Authorization\": \"Bearer \" + mural_oauth_token }\n",
    "    response = requests.request( \"GET\", url, headers = headers )\n",
    "    response_json = response.json()\n",
    "    msg = \"\"\n",
    "    if \"code\" in response_json:\n",
    "        msg += response_json[\"code\"] + \" \"\n",
    "    if \"message\" in response_json:\n",
    "        msg += response_json[\"message\"]\n",
    "    if msg != \"\":\n",
    "        print( msg )\n",
    "        return None\n",
    "    if \"value\" not in response_json:\n",
    "        print( \"No value returned\" )\n",
    "        return None\n",
    "    return response_json[\"value\"]"
   ]
  },
  {
   "cell_type": "code",
   "execution_count": null,
   "metadata": {},
   "outputs": [],
   "source": [
    "# Cell: 24\n",
    "\n",
    "g_shapes_arr = listShapes( g_room_name, g_workshop_key, g_mural_id  )\n",
    "print( json.dumps( g_shapes_arr, indent=3 ) )"
   ]
  },
  {
   "cell_type": "markdown",
   "metadata": {},
   "source": [
    "## 11.2 Identify the \"Lunch\" box and the \"Mini-golf\" box widgets\n",
    "\n",
    "Both the rectangle shape for the feedback comments about lunch and the one for comments about mini-golf had a title and a description added to the mural outline.\n",
    "\n",
    "That means the JSON for those widgets has a non-empty value for `title` and `instruction`.\n",
    "\n",
    "See: [Organize your mural with the outline feature](https://support.mural.co/en/articles/2113749-organize-your-mural-with-the-outline-feature)"
   ]
  },
  {
   "cell_type": "code",
   "execution_count": null,
   "metadata": {},
   "outputs": [],
   "source": [
    "# Cell: 25\n",
    "\n",
    "def getLunchAndMinigolfBoxes( widgets_arr ):\n",
    "    lunch_widget = None\n",
    "    golf_widget = None\n",
    "    for widget in widgets_arr:\n",
    "        widget_copy = { \"id\" : widget[\"id\"],\n",
    "                        \"x\"  : widget[\"x\"],\n",
    "                        \"y\"  : widget[\"y\"],\n",
    "                        \"height\" : widget[\"height\"],\n",
    "                        \"width\"  : widget[\"width\"] }\n",
    "        if ( \"title\" in widget ) and re.match( r\".*lunch\", widget[\"title\"], re.IGNORECASE ):\n",
    "            lunch_widget = widget_copy\n",
    "        elif ( \"title\" in widget ) and re.match( r\".*golf\", widget[\"title\"], re.IGNORECASE ):\n",
    "            golf_widget = widget_copy\n",
    "        if ( None != lunch_widget ) and ( None != golf_widget ):\n",
    "            break;\n",
    "    return lunch_widget, golf_widget"
   ]
  },
  {
   "cell_type": "code",
   "execution_count": null,
   "metadata": {},
   "outputs": [],
   "source": [
    "# Cell: 26\n",
    "\n",
    "g_lunch_widget, g_golf_widget = getLunchAndMinigolfBoxes( g_shapes_arr )\n",
    "print( \"Done\" )"
   ]
  },
  {
   "cell_type": "code",
   "execution_count": null,
   "metadata": {},
   "outputs": [],
   "source": [
    "# Cell: 27\n",
    "\n",
    "print( json.dumps( { \"lunch_widget\" : g_lunch_widget, \"golf_widget\" : g_golf_widget }, indent=3 ) )"
   ]
  },
  {
   "cell_type": "markdown",
   "metadata": {},
   "source": [
    "## 11.3 Identify which box - \"Lunch\" or \"Mini-golf\" - a sticky note is closest to"
   ]
  },
  {
   "cell_type": "code",
   "execution_count": null,
   "metadata": {},
   "outputs": [],
   "source": [
    "# Cell: 28\n",
    "\n",
    "def stickyCategory( row ):\n",
    "    sticky_center_x = row[\"x\"]  + ( 0.5 * row[\"width\"] )\n",
    "    lunch_center_x  = g_lunch_widget[\"x\"] + ( 0.5 * g_lunch_widget[\"width\"] )\n",
    "    golf_center_x   = g_golf_widget[\"x\"]  + ( 0.5 * g_golf_widget[\"width\"] )\n",
    "    lunch_distance  = abs( sticky_center_x - lunch_center_x )\n",
    "    golf_distance   = abs( sticky_center_x - golf_center_x )\n",
    "    return \"LUNCH\" if ( lunch_distance < golf_distance ) else \"GOLF\""
   ]
  },
  {
   "cell_type": "code",
   "execution_count": null,
   "metadata": {},
   "outputs": [],
   "source": [
    "# Cell: 29\n",
    "\n",
    "row = g_stickies_w_cluster_df.iloc[0]\n",
    "print( row[\"text\"] )\n",
    "stickyCategory( row )"
   ]
  },
  {
   "cell_type": "code",
   "execution_count": null,
   "metadata": {},
   "outputs": [],
   "source": [
    "# Cell: 30\n",
    "\n",
    "g_stickies_w_category_df = g_stickies_w_cluster_df.copy()\n",
    "g_stickies_w_category_df[\"category_box\"] = g_stickies_w_category_df.apply( stickyCategory, axis=1 )\n",
    "g_stickies_w_category_df.iloc[:,5:]"
   ]
  },
  {
   "cell_type": "markdown",
   "metadata": {},
   "source": [
    "### Clarity!\n",
    "\n",
    "Now, even ambiguous comments, like \"So fun!\" and \"Let's do it again!\", have some context.  \n",
    "\n",
    "Given their position on the mural, you at least know whether the comment is referring to lunch or mini-golf.  \n",
    "\n",
    "You could not figure that out using only NLP.  Even a human couldn't guess what those comments were referring to.  But MURAL's positional information can tell us for sure."
   ]
  },
  {
   "cell_type": "markdown",
   "metadata": {},
   "source": [
    "## 11.4 Cluster with entities and positional data"
   ]
  },
  {
   "cell_type": "code",
   "execution_count": null,
   "metadata": {},
   "outputs": [],
   "source": [
    "# Cell: 31\n",
    "\n",
    "g_lunch_stickies_w_entities_df = g_stickies_w_category_df[ g_stickies_w_category_df[\"category_box\"] == \"LUNCH\" ].copy().reset_index(drop=True).drop( [ \"LABEL\", \"H_CLUSTER_ID\" ], axis=1 )\n",
    "g_golf_stickies_w_entities_df = g_stickies_w_category_df[ g_stickies_w_category_df[\"category_box\"] == \"GOLF\" ].copy().reset_index(drop=True).drop( [ \"LABEL\", \"H_CLUSTER_ID\" ], axis=1 )\n",
    "print( \"Done\" )"
   ]
  },
  {
   "cell_type": "markdown",
   "metadata": {},
   "source": [
    "### Position: Lunch rectangle"
   ]
  },
  {
   "cell_type": "code",
   "execution_count": null,
   "metadata": {},
   "outputs": [],
   "source": [
    "# Cell: 32\n",
    "\n",
    "g_lunch_stickies_w_cluster_df = clusterH( g_lunch_stickies_w_entities_df, \"ENTITIES\" )"
   ]
  },
  {
   "cell_type": "code",
   "execution_count": null,
   "metadata": {},
   "outputs": [],
   "source": [
    "# Cell: 33\n",
    "\n",
    "g_lunch_stickies_w_cluster_df[\"LABEL\"] = g_lunch_stickies_w_cluster_df[\"LABEL\"].replace( \"\", \"GENERAL\" )\n",
    "g_lunch_stickies_w_cluster_df.iloc[:,5:]"
   ]
  },
  {
   "cell_type": "markdown",
   "metadata": {},
   "source": [
    "### Position: Golf rectangle"
   ]
  },
  {
   "cell_type": "code",
   "execution_count": null,
   "metadata": {},
   "outputs": [],
   "source": [
    "# Cell: 34\n",
    "\n",
    "g_golf_stickies_w_cluster_df = clusterH( g_golf_stickies_w_entities_df, \"ENTITIES\" )"
   ]
  },
  {
   "cell_type": "code",
   "execution_count": null,
   "metadata": {},
   "outputs": [],
   "source": [
    "# Cell: 35\n",
    "\n",
    "g_golf_stickies_w_cluster_df[\"LABEL\"] = g_golf_stickies_w_cluster_df[\"LABEL\"].replace( \"\", \"GENERAL\" )\n",
    "g_golf_stickies_w_cluster_df.iloc[:,5:]"
   ]
  },
  {
   "cell_type": "code",
   "execution_count": null,
   "metadata": {},
   "outputs": [],
   "source": []
  },
  {
   "cell_type": "markdown",
   "metadata": {},
   "source": [
    "# Step 12: Visualize clusters in the mural\n",
    "\n",
    "<ol style=\"list-style: none; margin: 20px 0px 0px 0px; padding: 0px\">\n",
    "<li style=\"margin: 0px 0px 3px 0px;\"><b>12.1:</b> Divide each category box into cluster zones</li>\n",
    "<li style=\"margin: 0px 0px 3px 0px;\"><b>12.2:</b> Define routines to add cluster label and move stickies</li>\n",
    "<li style=\"margin: 0px 0px 3px 0px;\"><b>12.3:</b> Move sticky notes into labeled clusters in the mural</li>\n",
    "<li style=\"margin: 0px 0px 3px 0px;\"><b>12.3:</b> [Optional] Routine for resetting the sticky notes</li>\n",
    "</ol>"
   ]
  },
  {
   "cell_type": "markdown",
   "metadata": {},
   "source": [
    "## 12.1 Divide each category box into cluster zones"
   ]
  },
  {
   "cell_type": "code",
   "execution_count": null,
   "metadata": {},
   "outputs": [],
   "source": [
    "# Cell: 36\n",
    "\n",
    "def getClusterZones( box, cluster_df ):\n",
    "    title_padding = 450\n",
    "    label_padding = 550\n",
    "    padding = 50\n",
    "    box_top = box[\"y\"]\n",
    "    box_height = box[\"height\"]\n",
    "    box_bottom = box_top + box_height\n",
    "    box_left = box[\"x\"]\n",
    "    box_width = box[\"width\"]\n",
    "    box_right = box_left + box_width\n",
    "    cluster_labels_df = cluster_df.loc[:,[\"LABEL\",\"H_CLUSTER_ID\"]].copy().drop_duplicates( subset=[\"LABEL\",\"H_CLUSTER_ID\"], keep=\"first\")\n",
    "    cluster_counts_df = cluster_df.loc[ :, [ \"H_CLUSTER_ID\" ] ].copy()\n",
    "    cluster_counts_df[\"cluster_count\"] = 0\n",
    "    cluster_counts_df = cluster_counts_df.groupby( [ \"H_CLUSTER_ID\" ], as_index=False ).count()\n",
    "    cluster_labels_df[\"cluster_count\"] = cluster_labels_df.H_CLUSTER_ID.map( cluster_counts_df.set_index( \"H_CLUSTER_ID\" )[\"cluster_count\"] )\n",
    "    num_clusters = cluster_labels_df.shape[0]\n",
    "    zone_height = ( box_bottom - box_top - title_padding ) / ( num_clusters - 0.25 )\n",
    "    cluster_zones = {}\n",
    "    zone_top = box_top + title_padding\n",
    "    for index, row in cluster_labels_df.iterrows():\n",
    "        label = row[\"LABEL\"] if re.match( r\"\\S\", row[\"LABEL\"] ) else \"GENERAL\"\n",
    "        cluster_zones[ label ] = { \"x\" : round( box_left + label_padding ), \"y\" : round( zone_top ), \"height\" : round( zone_height ), \"width\" : round( box_width ) }\n",
    "        zone_top += zone_height\n",
    "    return cluster_zones"
   ]
  },
  {
   "cell_type": "markdown",
   "metadata": {},
   "source": [
    "### Lunch cluster zones"
   ]
  },
  {
   "cell_type": "code",
   "execution_count": null,
   "metadata": {},
   "outputs": [],
   "source": [
    "# Cell: 37\n",
    "\n",
    "lunch_cluster_zones = getClusterZones( g_lunch_widget, g_lunch_stickies_w_cluster_df )\n",
    "print( json.dumps( lunch_cluster_zones, indent=3 ) )"
   ]
  },
  {
   "cell_type": "markdown",
   "metadata": {},
   "source": [
    "### Golf cluster zones"
   ]
  },
  {
   "cell_type": "code",
   "execution_count": null,
   "metadata": {},
   "outputs": [],
   "source": [
    "# Cell: 38\n",
    "\n",
    "golf_cluster_zones = getClusterZones( g_golf_widget, g_golf_stickies_w_cluster_df )\n",
    "print( json.dumps( golf_cluster_zones, indent=3 ) )"
   ]
  },
  {
   "cell_type": "markdown",
   "metadata": {},
   "source": [
    "## 12.2 Define routines to add cluster label and move stickies"
   ]
  },
  {
   "cell_type": "code",
   "execution_count": null,
   "metadata": {},
   "outputs": [],
   "source": [
    "# Cell: 39\n",
    "\n",
    "from random import randrange\n",
    "\n",
    "g_label_padding = 550\n",
    "g_padding = 50\n",
    "\n",
    "def addLabel( label, zone, mural_oauth_token ):\n",
    "    # https://developers.mural.co/public/reference/createtextbox\n",
    "    widget_data = { \"x\" : zone[\"x\"] + g_padding - g_label_padding, \n",
    "                    \"y\" : zone[\"y\"], \n",
    "                    \"width\" : 500,\n",
    "                    \"text\" : \"<b>\" + label + \"</b>\",\n",
    "                    \"style\": { \"fontSize\": 100 }\n",
    "                  }\n",
    "    url = \"https://app.mural.co/api/public/v1/murals/\" + g_mural_id + \"/widgets/textbox\"\n",
    "    headers = { \"Content-Type\" : \"application/json\", \"Accept\" : \"vnd.mural.preview\", \"Authorization\" : \"Bearer \" + mural_oauth_token }\n",
    "    data = json.dumps( widget_data )\n",
    "    response = requests.request( \"POST\", url, headers=headers, data=data )\n",
    "    response_json = response.json()\n",
    "    msg = \"\"\n",
    "    if \"code\" in response_json:\n",
    "        msg += response_json[\"code\"] + \" \"\n",
    "    if \"message\" in response_json:\n",
    "        msg += response_json[\"message\"]\n",
    "    return msg\n",
    "\n",
    "def moveSticky( sticky_id, x, y, mural_oauth_token ):\n",
    "    # https://developers.mural.co/public/reference/updatestickynote\n",
    "    url = \"https://app.mural.co/api/public/v1/murals/\" + g_mural_id + \"/widgets/sticky-note/\" + sticky_id\n",
    "    headers = { \"Content-Type\" : \"application/json\", \"Accept\" : \"application/json\", \"Authorization\" : \"Bearer \" + mural_oauth_token }\n",
    "    data = json.dumps( { \"x\" : x, \"y\" : y } )\n",
    "    response = requests.request( \"PATCH\", url, headers=headers, data=data )\n",
    "    response_json = json.loads( response.text )\n",
    "    msg = \"\"\n",
    "    if \"code\" in response_json:\n",
    "        msg += response_json[\"code\"] + \" \"\n",
    "    if \"message\" in response_json:\n",
    "        msg += response_json[\"message\"]\n",
    "    if msg != \"\":\n",
    "        print( msg )\n",
    "\n",
    "def lineUpInZone( zone, stickies_df, mural_oauth_token ):\n",
    "    zone_padding = 0.05 * zone[\"height\"]\n",
    "    top_edge = zone[\"y\"]\n",
    "    left_edge = zone[\"x\"] + zone_padding\n",
    "    right_edge = left_edge\n",
    "    for index, sticky in stickies_df.iterrows():\n",
    "        sticky_margin = 0.1 * sticky[\"width\"]\n",
    "        random_range = round( 0.1 * sticky[\"width\"] )\n",
    "        if ( top_edge + sticky[\"height\"] ) > ( zone[\"y\"] + zone[\"height\"] - zone_padding ):\n",
    "            top_edge = zone[\"y\"]\n",
    "            left_edge = right_edge\n",
    "        x = left_edge + 30 + randrange( random_range )\n",
    "        if ( x + sticky[\"width\"] ) > right_edge:\n",
    "            right_edge = x + sticky[\"width\"]\n",
    "        y = top_edge + randrange( random_range ) + sticky_margin\n",
    "        top_edge = y + sticky[\"height\"]\n",
    "        moveSticky( sticky[\"id\"], x, y, mural_oauth_token )"
   ]
  },
  {
   "cell_type": "markdown",
   "metadata": {},
   "source": [
    "## 12.3 Move sticky notes into labeled clusters in the mural"
   ]
  },
  {
   "cell_type": "code",
   "execution_count": null,
   "metadata": {},
   "outputs": [],
   "source": [
    "# Cell: 40\n",
    "\n",
    "import time\n",
    "time.sleep(5)\n",
    "\n",
    "# Quick!  After running this cell, switch to your browser \n",
    "# tab where the mural is to see the lunch stickies move.\n",
    "# ...\n",
    "\n",
    "mural_oauth_token = refreshAccessToken( g_room_name, g_workshop_key )\n",
    "if mural_oauth_token is not None:\n",
    "    for label in lunch_cluster_zones.keys():\n",
    "        zone = lunch_cluster_zones[ label ]\n",
    "        error_msg = addLabel( label, zone, mural_oauth_token )\n",
    "        if error_msg:\n",
    "            print( \"Error adding label: \" + label + \"\\n\" + error_msg )\n",
    "            break\n",
    "        stickies_df = g_lunch_stickies_w_cluster_df[ g_lunch_stickies_w_cluster_df[\"LABEL\"] == label ].copy().reset_index( drop=True )\n",
    "        error_msg = lineUpInZone( zone, stickies_df, mural_oauth_token )\n",
    "        if error_msg:\n",
    "            print( \"Error moving stickies:\\n\" + error_msg )\n",
    "            break"
   ]
  },
  {
   "cell_type": "code",
   "execution_count": null,
   "metadata": {},
   "outputs": [],
   "source": [
    "# Cell: 41\n",
    "\n",
    "time.sleep(5)\n",
    "\n",
    "# Quick!  After running this cell, switch to your browser \n",
    "# tab where the mural is to see the golf stickies move.\n",
    "# ...\n",
    "\n",
    "mural_oauth_token = refreshAccessToken( g_room_name, g_workshop_key )\n",
    "if mural_oauth_token is not None:\n",
    "    for label in golf_cluster_zones.keys():\n",
    "        zone = golf_cluster_zones[ label ]\n",
    "        error_msg = addLabel( label, zone, mural_oauth_token )\n",
    "        if error_msg:\n",
    "            print( \"Error adding label: \" + label + \"\\n\" + error_msg )\n",
    "            break\n",
    "        stickies_df = g_golf_stickies_w_cluster_df[ g_golf_stickies_w_cluster_df[\"LABEL\"] == label ].copy().reset_index( drop=True )\n",
    "        error_msg = lineUpInZone( zone, stickies_df, mural_oauth_token )\n",
    "        if error_msg:\n",
    "            print( \"Error moving stickies:\\n\" + error_msg )\n",
    "            break"
   ]
  },
  {
   "cell_type": "markdown",
   "metadata": {},
   "source": [
    "When you run the previous two cells, your mural should look something like this:\n",
    "\n",
    "<img src=\"https://github.com/spackows/MURAL-API-Samples/blob/main/images/weavesphere-2022-cluster-stickies-in-mural.gif?raw=true\" alt=\"Cluster stickies in mural\" width=\"70%\" />"
   ]
  },
  {
   "cell_type": "markdown",
   "metadata": {},
   "source": [
    "## 12.4 [Optional] Routine for resetting the sticky notes\n",
    "\n",
    "You can put the sticky notes back in their original position using the following routine.\n",
    "\n",
    "Note: This routine doesn't remove the labels.  So if you want those removed too, you have to remove them by hand in mural."
   ]
  },
  {
   "cell_type": "code",
   "execution_count": null,
   "metadata": {},
   "outputs": [],
   "source": [
    "# Cell: 42\n",
    "\n",
    "def resetStickyPositions( room_name, workshop_key ):\n",
    "    mural_oauth_token = refreshAccessToken( room_name, workshop_key )\n",
    "    if mural_oauth_token is None:\n",
    "        return\n",
    "    for index, row in g_stickies_w_pos_df.iterrows():\n",
    "        moveSticky( row[\"id\"], row[\"x\"], row[\"y\"], mural_oauth_token )"
   ]
  },
  {
   "cell_type": "code",
   "execution_count": null,
   "metadata": {},
   "outputs": [],
   "source": [
    "# Cell: 43\n",
    "\n",
    "resetStickyPositions( g_room_name, g_workshop_key )"
   ]
  },
  {
   "cell_type": "code",
   "execution_count": null,
   "metadata": {},
   "outputs": [],
   "source": []
  },
  {
   "cell_type": "markdown",
   "metadata": {},
   "source": [
    "# Step 13: Add a chart to the mural\n",
    "\n",
    "<ol style=\"list-style: none; margin: 20px 0px 0px 0px; padding: 0px\">\n",
    "<li style=\"margin: 0px 0px 3px 0px;\"><b>13.1:</b> Shape entities data</li>\n",
    "<li style=\"margin: 0px 0px 3px 0px;\"><b>13.2:</b> Plot a chart in notebook</li>\n",
    "<li style=\"margin: 0px 0px 3px 0px;\"><b>13.3:</b> Save the plot as an image file in the local notebook working directory</li>\n",
    "<li style=\"margin: 0px 0px 3px 0px;\"><b>13.4:</b> Upload the plot image file to the mural</li>\n",
    "</ol>"
   ]
  },
  {
   "cell_type": "markdown",
   "metadata": {},
   "source": [
    "## 13.1  Shape entities data"
   ]
  },
  {
   "cell_type": "code",
   "execution_count": null,
   "metadata": {},
   "outputs": [],
   "source": [
    "# Cell: 44\n",
    "\n",
    "g_stickies_w_category_df[\"LABEL\"] = g_stickies_w_category_df[\"LABEL\"].replace( \"\", \"GENERAL\" )\n",
    "theme_counts_df = g_stickies_w_category_df.loc[ :, [ \"category_box\", \"LABEL\" ] ].copy()\n",
    "theme_counts_df[\"count\"] = 0\n",
    "theme_counts_df = theme_counts_df.groupby( [ \"category_box\", \"LABEL\" ], as_index=False ).count()\n",
    "theme_counts_df.sort_values( [ \"category_box\", \"count\" ], inplace=True, ascending=[ False, True ], ignore_index=True )\n",
    "theme_counts_df"
   ]
  },
  {
   "cell_type": "code",
   "execution_count": null,
   "metadata": {},
   "outputs": [],
   "source": [
    "# Cell: 45\n",
    "\n",
    "theme_sentiment_df = g_stickies_w_category_df[ g_stickies_w_category_df[\"SENTIMENT\"] == \"Positive\" ].loc[ :, [ \"category_box\", \"LABEL\" ] ].copy()\n",
    "theme_sentiment_df[\"num_positive\"] = 0\n",
    "theme_sentiment_df = theme_sentiment_df.groupby( [ \"category_box\", \"LABEL\" ], as_index=False ).count()\n",
    "theme_sentiment_df.sort_values( [ \"category_box\", \"num_positive\", \"LABEL\" ], inplace=True, ascending=[ False, False, True ], ignore_index=True )\n",
    "theme_sentiment_df"
   ]
  },
  {
   "cell_type": "code",
   "execution_count": null,
   "metadata": {},
   "outputs": [],
   "source": [
    "# Cell: 46\n",
    "\n",
    "themes_df = theme_counts_df.merge( theme_sentiment_df, how=\"left\", on=[ \"category_box\", \"LABEL\" ] )\n",
    "themes_df[\"num_positive\"].fillna( 0, inplace=True ) \n",
    "themes_df[\"score\"] = round( themes_df[\"num_positive\"] / themes_df[\"count\"], 2 )\n",
    "themes_df.sort_values( [ \"category_box\", \"score\" ], ascending=[ False, False ], inplace=True, ignore_index=True )\n",
    "themes_df"
   ]
  },
  {
   "cell_type": "markdown",
   "metadata": {},
   "source": [
    "## 13.2  Plot a chart in notebook"
   ]
  },
  {
   "cell_type": "code",
   "execution_count": null,
   "metadata": {},
   "outputs": [],
   "source": [
    "# Cell: 47\n",
    "\n",
    "# This is needed for the hover text to work, but you need to use \"%matplotlib inline\" to turn off this mode\n",
    "%matplotlib notebook \n",
    "\n",
    "\n",
    "my_palette = {\n",
    "    # https://coolors.co/palette/ff595e-ffca3a-8ac926-1982c4-6a4c93\n",
    "    \"red\"      : \"#FF595E\",\n",
    "    \"yellow\"   : \"#FFCA3A\",\n",
    "    \"green\"    : \"#8AC926\",\n",
    "    \"blue\"     : \"#1982C4\",\n",
    "    \"purple\"   : \"#6A4C93\"\n",
    "}\n",
    "\n",
    "from matplotlib.colors import LinearSegmentedColormap\n",
    "from matplotlib.cm import ScalarMappable\n",
    "from matplotlib.colors import Normalize\n",
    "from matplotlib.gridspec import GridSpec\n",
    "import numpy as np\n",
    "\n",
    "cmap = LinearSegmentedColormap.from_list( \"rbg\", [ my_palette[\"blue\"], my_palette[\"green\"], my_palette[\"yellow\"] ], N = 256 ) \n",
    "\n",
    "fig_bar = plt.figure( figsize=( 14, 6 ) )\n",
    "fig_bar.suptitle( \"Sentiment by theme\", fontsize = 22 )\n",
    "plt.subplots_adjust( top = 0.7 )\n",
    "\n",
    "gs = GridSpec( 7, 15, figure=fig_bar )\n",
    "axs1 = fig_bar.add_subplot(gs[:4, 0:7])\n",
    "axs2 = fig_bar.add_subplot(gs[:4, 8:13])\n",
    "cb_axs = fig_bar.add_subplot(gs[6, 4:11])\n",
    "\n",
    "axes = [ axs1, axs2 ]\n",
    "bars = []\n",
    "annotations = []\n",
    "\n",
    "for category, axs in zip( themes_df[\"category_box\"].unique(), axes ):\n",
    "    \n",
    "    labels = list( themes_df[ themes_df[\"category_box\"] == category ].loc[ :, \"LABEL\" ] )\n",
    "    counts = list( themes_df[ themes_df[\"category_box\"] == category ].loc[ :, \"count\" ] )\n",
    "    scores = list( themes_df[ themes_df[\"category_box\"] == category ].loc[ :, \"score\" ] )\n",
    "    num_bars  = len( labels )\n",
    "    positions = np.arange( num_bars )\n",
    "    colors = [ cmap( score ) for score in scores ]\n",
    "    \n",
    "    category_bars = axs.bar( labels, counts, color=colors )\n",
    "    bars.append( category_bars )\n",
    "    \n",
    "    axs.set_yticks([])\n",
    "    axs.set_ylabel( \"Total comments\", fontsize=\"9\" )\n",
    "    axs.tick_params( axis=\"x\", labelsize=8)\n",
    "    axs.set_title( category, fontsize=18, pad=23 )\n",
    "    axs.spines[\"top\"].set_visible( False )\n",
    "    axs.spines[\"right\"].set_visible( False )\n",
    "    axs.spines[\"left\"].set_visible( False )\n",
    "    \n",
    "    category_annotations = []\n",
    "    for i in range( len( category_bars ) ):\n",
    "        theme = labels[i]\n",
    "        comments = list( g_stickies_w_category_df[ ( g_stickies_w_category_df[\"category_box\"] == category ) & ( g_stickies_w_category_df[\"LABEL\"] == theme ) ].loc[ :, \"text\" ] )\n",
    "        annot = axs.annotate( \"\\n\\n\".join( comments ), xy=( 0.1, 0.8 ), fontsize=\"9\", xycoords=\"axes fraction\", verticalalignment=\"top\" )\n",
    "        annot.set_bbox( dict( facecolor=\"lightgrey\", alpha=0.7, edgecolor=\"lightgrey\") )\n",
    "        annot.set_visible( False )\n",
    "        category_annotations.append( annot )\n",
    "    annotations.append( category_annotations )\n",
    "    \n",
    "def contains( bar, event ):\n",
    "    x = event.xdata;\n",
    "    y = event.ydata;\n",
    "    if ( x >= bar.get_x() ) and ( x <= ( bar.get_x() + bar.get_width() ) ) and ( y >= bar.get_y() ) and ( y <= ( bar.get_y() + bar.get_height() ) ):\n",
    "        return True\n",
    "    return False\n",
    "\n",
    "def hover( event ):\n",
    "    for i in range( len( axes ) ):\n",
    "        for j in range( len( bars[i] ) ):\n",
    "            theme_bar = bars[i][j]\n",
    "            theme_annot = annotations[i][j]\n",
    "            if ( event.inaxes == axes[i] ) and contains( theme_bar, event ):\n",
    "                theme_annot.set_visible( True )\n",
    "            else:\n",
    "                theme_annot.set_visible( False )\n",
    "\n",
    "fig_bar.canvas.mpl_connect( \"motion_notify_event\", hover )\n",
    "\n",
    "cmappable = ScalarMappable( norm=Normalize(0,1), cmap=cmap )\n",
    "cbar = plt.colorbar( cmappable, cax=cb_axs, orientation=\"horizontal\" )\n",
    "cbar.set_ticks( [ 0.0, 0.5, 1.0 ] )\n",
    "cbar.set_ticklabels( [ \"Negative\", \"Neutral\", \"Positive\" ] )\n",
    "cb_axs.tick_params( axis=\"x\", labelsize=10)\n",
    "cb_axs.invert_xaxis()\n",
    "\n",
    "plt.show()"
   ]
  },
  {
   "cell_type": "code",
   "execution_count": null,
   "metadata": {},
   "outputs": [],
   "source": [
    "# Cell: 48\n",
    "\n",
    "# This is needed to turn off the previous mode\n",
    "%matplotlib inline"
   ]
  },
  {
   "cell_type": "markdown",
   "metadata": {},
   "source": [
    "## 13.3  Save the plot as an image file in the local notebook working directory"
   ]
  },
  {
   "cell_type": "code",
   "execution_count": null,
   "metadata": {},
   "outputs": [],
   "source": [
    "# Cell: 49\n",
    "\n",
    "g_figure_file_name = \"theme_sentiment_bars.png\"\n",
    "\n",
    "fig_bar.savefig( g_figure_file_name )\n",
    "\n",
    "!ls -l"
   ]
  },
  {
   "cell_type": "markdown",
   "metadata": {},
   "source": [
    "## 13.4  Upload the plot image file to the mural"
   ]
  },
  {
   "cell_type": "code",
   "execution_count": null,
   "metadata": {},
   "outputs": [],
   "source": [
    "# Cell: 50\n",
    "\n",
    "def refreshAccessToken( room_name, workshop_key ):\n",
    "    url = \"https://weavesphere-mural-oauth.tqns6lm651z.us-south.codeengine.appdomain.cloud/refresh-token\"\n",
    "    headers = { \"Content-Type\" : \"application/json\", \"Accept\" : \"application/json\" }\n",
    "    data = json.dumps( { \"room_name\" : room_name, \"workshop_key\" : workshop_key } )\n",
    "    response = requests.request( \"POST\", url, headers=headers, data=data )\n",
    "    response_json = response.json()\n",
    "    if \"error_str\" in response_json:\n",
    "        print( response_json[\"error_str\"] )\n",
    "        return None\n",
    "    if \"access_token\" not in response_json:\n",
    "        print( \"Field 'access_token' not returned in result\" )\n",
    "        return None\n",
    "    return response_json[\"access_token\"]\n",
    "\n",
    "\n",
    "def createUploadURL( mural_oauth_token, mural_id ):\n",
    "    # https://developers.mural.co/public/docs/how-to-upload-an-image-to-a-mural\n",
    "    url = \"https://app.mural.co/api/public/v1/murals/\" + mural_id + \"/assets\"\n",
    "    headers = { \"Content-Type\" : \"application/json\", \"Accept\" : \"application/json\", \"Authorization\" : \"Bearer \" + mural_oauth_token }\n",
    "    data = json.dumps( { \"fileExtension\": \"png\" } )\n",
    "    response = requests.request( \"POST\", url, headers=headers, data=data )\n",
    "    response_json = response.json()\n",
    "    msg = \"\"\n",
    "    if \"code\" in response_json:\n",
    "        msg += response_json[\"code\"] + \" \"\n",
    "    if \"message\" in response_json:\n",
    "        msg += response_json[\"message\"]\n",
    "    if msg != \"\":\n",
    "        print( msg )\n",
    "        return None, None, None\n",
    "    if \"value\" not in response_json:\n",
    "        print( \"No value returned\" )\n",
    "        return None, None, None\n",
    "    if \"url\" not in response_json[\"value\"]:\n",
    "        print( \"upload 'url' field not returned from MURAL\" )\n",
    "        return None, None, None\n",
    "    if \"name\" not in response_json[\"value\"]:\n",
    "        print( \"'name' field not returned from MURAL\" )\n",
    "        return None, None, None\n",
    "    if \"headers\" not in response_json[\"value\"]:\n",
    "        print( \"'headers' field not returned from MURAL\" )\n",
    "        return None, None, None\n",
    "    return response_json[\"value\"][\"url\"], response_json[\"value\"][\"name\"], response_json[\"value\"][\"headers\"]\n",
    "\n",
    "\n",
    "def uploadImage( upload_url, upload_headers, img_file_name ):\n",
    "    # https://developers.mural.co/public/docs/how-to-upload-an-image-to-a-mural\n",
    "    #headers = { \"x-ms-blob-type\" : \"BlockBlob\" }\n",
    "    with open( img_file_name, \"rb\" ) as payload:\n",
    "        response = requests.request( \"PUT\", upload_url, headers=upload_headers, data=payload )\n",
    "    #print( response.text )\n",
    "\n",
    "\n",
    "def createImageWidget( mural_oauth_token, mural_id, storage_file_name ):\n",
    "    # https://developers.mural.co/public/reference/createimage\n",
    "    url = \"https://app.mural.co/api/public/v1/murals/\" + mural_id + \"/widgets/image\"\n",
    "    headers = { \"Content-Type\" : \"application/json\", \"Accept\" : \"application/json\", \"Authorization\" : \"Bearer \" + mural_oauth_token }\n",
    "    chart_width = 8000\n",
    "    chart_height = 3200\n",
    "    mural_default_width = 9216\n",
    "    mural_middle = mural_default_width / 2\n",
    "    chart_left = mural_middle - ( chart_width / 2 )\n",
    "    data = json.dumps( { \"x\" : chart_left,\n",
    "                         \"y\" : -1 * chart_height - 400,\n",
    "                         \"height\" : chart_height,\n",
    "                         \"width\"  : chart_width,\n",
    "                         \"name\"   : storage_file_name } )\n",
    "    response = requests.request( \"POST\", url, headers=headers, data=data )\n",
    "    response_json = response.json()\n",
    "    msg = \"\"\n",
    "    if \"code\" in response_json:\n",
    "        msg += response_json[\"code\"] + \" \"\n",
    "    if \"message\" in response_json:\n",
    "        msg += response_json[\"message\"]\n",
    "    if msg != \"\":\n",
    "        print( msg )\n",
    "        return\n",
    "    print( \"Done\" )\n",
    "\n",
    "\n",
    "def addImageToMural( room_name, workshop_key, mural_id, img_file_name ):\n",
    "    mural_oauth_token = refreshAccessToken( room_name, workshop_key )\n",
    "    if mural_oauth_token is None:\n",
    "        return\n",
    "    upload_url, upload_name, upload_headers = createUploadURL( mural_oauth_token, mural_id )\n",
    "    if ( upload_url is None ) or ( upload_name is None ) or ( upload_headers is None ):\n",
    "        return\n",
    "    uploadImage( upload_url, upload_headers, img_file_name )\n",
    "    createImageWidget( mural_oauth_token, mural_id, upload_name )"
   ]
  },
  {
   "cell_type": "code",
   "execution_count": null,
   "metadata": {},
   "outputs": [],
   "source": [
    "# Cell: 51\n",
    "\n",
    "time.sleep(5)\n",
    "\n",
    "# Quick!  After running this cell, switch to your browser tab\n",
    "# where the mural is to see the image of the chart get added.\n",
    "# ...\n",
    "\n",
    "addImageToMural( g_room_name, g_workshop_key, g_mural_id, g_figure_file_name )"
   ]
  },
  {
   "cell_type": "markdown",
   "metadata": {},
   "source": [
    "After running the previous cell, you will see the chart in the mural:\n",
    "\n",
    "<img src=\"https://github.com/spackows/MURAL-API-Samples/blob/main/images/weavesphere-2022-chart-in-mural.png?raw=true\" alt=\"Workshop mural with a chart\" width=\"60%\" />"
   ]
  },
  {
   "cell_type": "code",
   "execution_count": null,
   "metadata": {},
   "outputs": [],
   "source": []
  },
  {
   "cell_type": "code",
   "execution_count": null,
   "metadata": {},
   "outputs": [],
   "source": []
  }
 ],
 "metadata": {
  "kernelspec": {
   "display_name": "Python 3.9",
   "language": "python",
   "name": "python3"
  },
  "language_info": {
   "codemirror_mode": {
    "name": "ipython",
    "version": 3
   },
   "file_extension": ".py",
   "mimetype": "text/x-python",
   "name": "python",
   "nbconvert_exporter": "python",
   "pygments_lexer": "ipython3",
   "version": "3.9.13"
  }
 },
 "nbformat": 4,
 "nbformat_minor": 1
}
